{
 "cells": [
  {
   "cell_type": "code",
   "execution_count": null,
   "metadata": {},
   "outputs": [],
   "source": [
    "# %%html\n",
    "# <script>\n",
    "# code_show=true; \n",
    "# function code_toggle() {\n",
    "#  if (code_show){\n",
    "#  $('div.input').hide();\n",
    "#  } else {\n",
    "#  $('div.input').show();\n",
    "#  }\n",
    "#  code_show = !code_show\n",
    "# } \n",
    "# $( document ).ready(code_toggle);\n",
    "\n",
    "\n",
    "# </script>\n",
    "\n",
    "\n",
    "# <form action=\"javascript:code_toggle()\"><input type=\"submit\" value=\" \n",
    "# Curso: Diseño y mantenimiento de instalaciones de energía solar fotovoltaica\n",
    "# Alumno: Francisco Manuel Roman Gamez\n",
    "\n",
    "# \"></form>"
   ]
  },
  {
   "cell_type": "code",
   "execution_count": null,
   "metadata": {},
   "outputs": [],
   "source": []
  },
  {
   "cell_type": "code",
   "execution_count": 86,
   "metadata": {},
   "outputs": [],
   "source": [
    "\n",
    "# https://ec.europa.eu/jrc/en/PVGIS/docs/noninteractive\n",
    "# https://ec.europa.eu/jrc/en/PVGIS/releases/pvgis51\n",
    "# https://re.jrc.ec.europa.eu/pvg_tools/es/#MR\n",
    "\n",
    "from flask import Flask, jsonify, render_template, request, session\n",
    "import pandas as pd # data wrangling\n",
    "import requests as requests\n",
    "import pandas as pd \n",
    "import json\n",
    "import datetime\n",
    "from math import pi\n",
    "\n",
    "import numpy as np\n",
    "import matplotlib.pyplot as plt\n",
    "# "
   ]
  },
  {
   "cell_type": "code",
   "execution_count": 87,
   "metadata": {},
   "outputs": [],
   "source": [
    "tuples=[(0,0),(0,1),(1,0),(1,1),(2,0),(2,1),(3,0),(3,1),(4,0),(4,1),(5,0),(5,1),(6,0),(6,1),(7,0),(7,1)]\n",
    "index=pd.MultiIndex.from_tuples(tuples)"
   ]
  },
  {
   "cell_type": "code",
   "execution_count": 88,
   "metadata": {},
   "outputs": [],
   "source": [
    "p=[[-100,40],[-80,30],[-80,30],[-60,25],[-40,40],[-30,60],[-30,20],[-20,25],[-10,10],[20,60],[20,50],[40,45],[60,40],[80,60],[80,20],[100,25]]\n",
    "\n",
    "df=pd.DataFrame(p, index=index)\n",
    "# df"
   ]
  },
  {
   "cell_type": "code",
   "execution_count": 89,
   "metadata": {},
   "outputs": [],
   "source": [
    "# df.loc[0,:].at[1,0]"
   ]
  },
  {
   "cell_type": "code",
   "execution_count": 90,
   "metadata": {},
   "outputs": [],
   "source": [
    "st=pd.Series(0, index=np.arange(360))\n",
    "# ====================="
   ]
  },
  {
   "cell_type": "code",
   "execution_count": 91,
   "metadata": {},
   "outputs": [
    {
     "data": {
      "text/plain": [
       "<matplotlib.axes._subplots.AxesSubplot at 0x7f41d93dad68>"
      ]
     },
     "execution_count": 91,
     "metadata": {},
     "output_type": "execute_result"
    },
    {
     "data": {
      "image/png": "[encoded data removed]",
      "text/plain": [
       "<Figure size 432x288 with 1 Axes>"
      ]
     },
     "metadata": {
      "needs_background": "light"
     },
     "output_type": "display_data"
    }
   ],
   "source": [
    "def horizonte(p,df):\n",
    "    dfp=df.loc[p,:]\n",
    "    pp=dfp.values.tolist()\n",
    "    pp.sort()\n",
    "    pp=([-180,0],[pp[0][0]-1,0],pp[0],pp[1],[pp[1][0]+1,0],[180,0])\n",
    "    ddf=pd.DataFrame(pp)\n",
    "    ddf[0]=ddf[0]+180\n",
    "\n",
    "    d = pd.Series(np.nan, index=np.arange(360))\n",
    "\n",
    "    ii=ddf.index.tolist()\n",
    "    for i in ii: \n",
    "        d.at[ddf.at[i,0]]=ddf.at[i,1]\n",
    "    s=d.interpolate()\n",
    "    return s\n",
    "puntos=list(set(index.get_level_values(0)))\n",
    "for p in puntos:\n",
    "    s=horizonte(p,df)\n",
    "    st=st.combine(s, max, 0)\n",
    "st.plot()"
   ]
  },
  {
   "cell_type": "code",
   "execution_count": 92,
   "metadata": {},
   "outputs": [],
   "source": [
    "hh=st.tolist()\n",
    "hh = [round(x,2) for x in hh]\n",
    "hh=hh[0:359]\n"
   ]
  },
  {
   "cell_type": "code",
   "execution_count": 93,
   "metadata": {},
   "outputs": [],
   "source": [
    "lat='40';lon='-4'\n"
   ]
  },
  {
   "cell_type": "code",
   "execution_count": 94,
   "metadata": {},
   "outputs": [
    {
     "data": {
      "text/plain": [
       "{'fixed': {'E_d': 3.57,\n",
       "  'E_m': 108.53,\n",
       "  'E_y': 1302.32,\n",
       "  'H(i)_d': 4.03,\n",
       "  'H(i)_m': 122.62,\n",
       "  'H(i)_y': 1471.47,\n",
       "  'SD_m': 1.75,\n",
       "  'SD_y': 21.05,\n",
       "  'l_aoi': -3.22,\n",
       "  'l_spec': '0.25',\n",
       "  'l_tg': -8.78,\n",
       "  'l_total': -11.5}}"
      ]
     },
     "execution_count": 94,
     "metadata": {},
     "output_type": "execute_result"
    }
   ],
   "source": [
    "# Calculos\n",
    "# ????????????????   irraciacion\n",
    "# url=\"https://re.jrc.ec.europa.eu/api/DRcalc?lat=\"+lat+\"&lon=\"+lon+\"&month=\"+mes+\"&global=1\"\n",
    "\n",
    "url=\"https://re.jrc.ec.europa.eu/api/PVcalc?lat=\"+lat+\"&lon=\"+lon+\"&peakpower=1&loss=0\"\n",
    "    \n",
    "url=url+\"&localtime=1\"\n",
    "url=url+\"&outputformat=json\"\n",
    "# hh=[0,10,20,80,40,15,25,5]\n",
    "url=url+\"&userhorizon=\"+str(hh).strip('[]')\n",
    "# print(url)\n",
    "r = requests.get(url)\n",
    "data = r.json()\n",
    "j=data[\"outputs\"][\"totals\"]\n",
    "j"
   ]
  },
  {
   "cell_type": "code",
   "execution_count": 95,
   "metadata": {},
   "outputs": [],
   "source": [
    "d = pd.Series(0, index=np.arange(359))\n",
    "hh=d.tolist()"
   ]
  },
  {
   "cell_type": "code",
   "execution_count": 96,
   "metadata": {},
   "outputs": [
    {
     "data": {
      "text/plain": [
       "{'fixed': {'E_d': 4.46,\n",
       "  'E_m': 135.55,\n",
       "  'E_y': 1626.56,\n",
       "  'H(i)_d': 4.99,\n",
       "  'H(i)_m': 151.74,\n",
       "  'H(i)_y': 1820.88,\n",
       "  'SD_m': 2.87,\n",
       "  'SD_y': 34.47,\n",
       "  'l_aoi': -3.69,\n",
       "  'l_spec': '0.31',\n",
       "  'l_tg': -7.54,\n",
       "  'l_total': -10.67}}"
      ]
     },
     "execution_count": 96,
     "metadata": {},
     "output_type": "execute_result"
    }
   ],
   "source": [
    "# Calculos\n",
    "# ????????????????   irraciacion\n",
    "# url=\"https://re.jrc.ec.europa.eu/api/DRcalc?lat=\"+lat+\"&lon=\"+lon+\"&month=\"+mes+\"&global=1\"\n",
    "\n",
    "url=\"https://re.jrc.ec.europa.eu/api/PVcalc?lat=\"+lat+\"&lon=\"+lon+\"&peakpower=1&loss=0\"\n",
    "    \n",
    "url=url+\"&localtime=1\"\n",
    "url=url+\"&outputformat=json\"\n",
    "url=url+\"&userhorizon=\"+str(hh).strip('[]')\n",
    "\n",
    "# url=url+\"&userhorizon=\"+str(hh).strip('[]')\n",
    "# print(url)\n",
    "r = requests.get(url)\n",
    "data = r.json()\n",
    "data\n",
    "j=data[\"outputs\"][\"totals\"]\n",
    "j"
   ]
  },
  {
   "cell_type": "code",
   "execution_count": null,
   "metadata": {},
   "outputs": [],
   "source": [
    "jf= json.dumps(j, indent=2)\n",
    "df=pd.read_json(jf, orient='records') \n",
    "df"
   ]
  },
  {
   "cell_type": "code",
   "execution_count": null,
   "metadata": {},
   "outputs": [],
   "source": []
  },
  {
   "cell_type": "code",
   "execution_count": 98,
   "metadata": {},
   "outputs": [
    {
     "name": "stdout",
     "output_type": "stream",
     "text": [
      "https://re.jrc.ec.europa.eu/api/PVcalc?lat=40&lon=-4&peakpower=1&loss=0&localtime=1&outputformat=json\n"
     ]
    }
   ],
   "source": [
    "# Calculos\n",
    "# ????????????????   irraciacion\n",
    "# url=\"https://re.jrc.ec.europa.eu/api/DRcalc?lat=\"+lat+\"&lon=\"+lon+\"&month=\"+mes+\"&global=1\"\n",
    "\n",
    "url=\"https://re.jrc.ec.europa.eu/api/PVcalc?lat=\"+lat+\"&lon=\"+lon+\"&peakpower=1&loss=0\"\n",
    "    \n",
    "url=url+\"&localtime=1\"\n",
    "url=url+\"&outputformat=json\"\n",
    "print(url)\n"
   ]
  },
  {
   "cell_type": "code",
   "execution_count": 106,
   "metadata": {},
   "outputs": [
    {
     "data": {
      "text/html": [
       "<div>\n",
       "<style scoped>\n",
       "    .dataframe tbody tr th:only-of-type {\n",
       "        vertical-align: middle;\n",
       "    }\n",
       "\n",
       "    .dataframe tbody tr th {\n",
       "        vertical-align: top;\n",
       "    }\n",
       "\n",
       "    .dataframe thead th {\n",
       "        text-align: right;\n",
       "    }\n",
       "</style>\n",
       "<table border=\"1\" class=\"dataframe\">\n",
       "  <thead>\n",
       "    <tr style=\"text-align: right;\">\n",
       "      <th></th>\n",
       "      <th>month</th>\n",
       "      <th>E_d</th>\n",
       "      <th>E_m</th>\n",
       "      <th>H(i)_d</th>\n",
       "      <th>H(i)_m</th>\n",
       "      <th>SD_m</th>\n",
       "    </tr>\n",
       "  </thead>\n",
       "  <tbody>\n",
       "    <tr>\n",
       "      <th>0</th>\n",
       "      <td>1</td>\n",
       "      <td>2.14</td>\n",
       "      <td>66.38</td>\n",
       "      <td>2.31</td>\n",
       "      <td>71.65</td>\n",
       "      <td>9.29</td>\n",
       "    </tr>\n",
       "    <tr>\n",
       "      <th>1</th>\n",
       "      <td>2</td>\n",
       "      <td>3.12</td>\n",
       "      <td>87.33</td>\n",
       "      <td>3.31</td>\n",
       "      <td>92.55</td>\n",
       "      <td>9.10</td>\n",
       "    </tr>\n",
       "    <tr>\n",
       "      <th>2</th>\n",
       "      <td>3</td>\n",
       "      <td>4.27</td>\n",
       "      <td>132.27</td>\n",
       "      <td>4.53</td>\n",
       "      <td>140.46</td>\n",
       "      <td>13.01</td>\n",
       "    </tr>\n",
       "    <tr>\n",
       "      <th>3</th>\n",
       "      <td>4</td>\n",
       "      <td>5.39</td>\n",
       "      <td>161.76</td>\n",
       "      <td>5.86</td>\n",
       "      <td>175.73</td>\n",
       "      <td>8.81</td>\n",
       "    </tr>\n",
       "    <tr>\n",
       "      <th>4</th>\n",
       "      <td>5</td>\n",
       "      <td>6.13</td>\n",
       "      <td>190.08</td>\n",
       "      <td>6.83</td>\n",
       "      <td>211.81</td>\n",
       "      <td>13.12</td>\n",
       "    </tr>\n",
       "    <tr>\n",
       "      <th>5</th>\n",
       "      <td>6</td>\n",
       "      <td>6.72</td>\n",
       "      <td>201.48</td>\n",
       "      <td>7.71</td>\n",
       "      <td>231.43</td>\n",
       "      <td>6.65</td>\n",
       "    </tr>\n",
       "    <tr>\n",
       "      <th>6</th>\n",
       "      <td>7</td>\n",
       "      <td>6.91</td>\n",
       "      <td>214.30</td>\n",
       "      <td>8.09</td>\n",
       "      <td>250.75</td>\n",
       "      <td>5.82</td>\n",
       "    </tr>\n",
       "    <tr>\n",
       "      <th>7</th>\n",
       "      <td>8</td>\n",
       "      <td>6.15</td>\n",
       "      <td>190.66</td>\n",
       "      <td>7.15</td>\n",
       "      <td>221.77</td>\n",
       "      <td>3.99</td>\n",
       "    </tr>\n",
       "    <tr>\n",
       "      <th>8</th>\n",
       "      <td>9</td>\n",
       "      <td>4.87</td>\n",
       "      <td>146.19</td>\n",
       "      <td>5.51</td>\n",
       "      <td>165.38</td>\n",
       "      <td>5.65</td>\n",
       "    </tr>\n",
       "    <tr>\n",
       "      <th>9</th>\n",
       "      <td>10</td>\n",
       "      <td>3.42</td>\n",
       "      <td>106.08</td>\n",
       "      <td>3.78</td>\n",
       "      <td>117.11</td>\n",
       "      <td>8.30</td>\n",
       "    </tr>\n",
       "    <tr>\n",
       "      <th>10</th>\n",
       "      <td>11</td>\n",
       "      <td>2.36</td>\n",
       "      <td>70.91</td>\n",
       "      <td>2.57</td>\n",
       "      <td>77.21</td>\n",
       "      <td>7.61</td>\n",
       "    </tr>\n",
       "    <tr>\n",
       "      <th>11</th>\n",
       "      <td>12</td>\n",
       "      <td>1.91</td>\n",
       "      <td>59.12</td>\n",
       "      <td>2.10</td>\n",
       "      <td>65.03</td>\n",
       "      <td>5.41</td>\n",
       "    </tr>\n",
       "  </tbody>\n",
       "</table>\n",
       "</div>"
      ],
      "text/plain": [
       "    month   E_d     E_m  H(i)_d  H(i)_m   SD_m\n",
       "0       1  2.14   66.38    2.31   71.65   9.29\n",
       "1       2  3.12   87.33    3.31   92.55   9.10\n",
       "2       3  4.27  132.27    4.53  140.46  13.01\n",
       "3       4  5.39  161.76    5.86  175.73   8.81\n",
       "4       5  6.13  190.08    6.83  211.81  13.12\n",
       "5       6  6.72  201.48    7.71  231.43   6.65\n",
       "6       7  6.91  214.30    8.09  250.75   5.82\n",
       "7       8  6.15  190.66    7.15  221.77   3.99\n",
       "8       9  4.87  146.19    5.51  165.38   5.65\n",
       "9      10  3.42  106.08    3.78  117.11   8.30\n",
       "10     11  2.36   70.91    2.57   77.21   7.61\n",
       "11     12  1.91   59.12    2.10   65.03   5.41"
      ]
     },
     "execution_count": 106,
     "metadata": {},
     "output_type": "execute_result"
    },
    {
     "data": {
      "image/png": "[encoded data removed]",
      "text/plain": [
       "<Figure size 432x288 with 1 Axes>"
      ]
     },
     "metadata": {
      "needs_background": "light"
     },
     "output_type": "display_data"
    }
   ],
   "source": [
    "j=data[\"outputs\"][\"monthly\"][\"fixed\"]\n",
    "jf= json.dumps(j, indent=2)\n",
    "df=pd.read_json(jf, orient='records') \n",
    "dfp=df\n",
    "df=df.to_html()\n",
    "\n",
    "# E=irradiacion\n",
    "# E=850 para probar con los datos del idae\n",
    "\n",
    "ax=dfp.plot(kind='bar',y=['E_m']);ax.set_ylabel(\"$MJ / m^2 * d$\");\n",
    "dfp"
   ]
  },
  {
   "cell_type": "code",
   "execution_count": null,
   "metadata": {},
   "outputs": [],
   "source": []
  },
  {
   "cell_type": "markdown",
   "metadata": {},
   "source": [
    "{{dfp}}"
   ]
  },
  {
   "cell_type": "code",
   "execution_count": null,
   "metadata": {},
   "outputs": [],
   "source": []
  }
 ],
 "metadata": {
  "kernelspec": {
   "display_name": "Python 3",
   "language": "python",
   "name": "python3"
  },
  "language_info": {
   "codemirror_mode": {
    "name": "ipython",
    "version": 3
   },
   "file_extension": ".py",
   "mimetype": "text/x-python",
   "name": "python",
   "nbconvert_exporter": "python",
   "pygments_lexer": "ipython3",
   "version": "3.6.9"
  },
  "latex_envs": {
   "LaTeX_envs_menu_present": true,
   "autoclose": false,
   "autocomplete": true,
   "bibliofile": "biblio.bib",
   "cite_by": "apalike",
   "current_citInitial": 1,
   "eqLabelWithNumbers": true,
   "eqNumInitial": 1,
   "hotkeys": {
    "equation": "Ctrl-E",
    "itemize": "Ctrl-I"
   },
   "labels_anchors": false,
   "latex_user_defs": false,
   "report_style_numbering": false,
   "user_envs_cfg": false
  },
  "varInspector": {
   "cols": {
    "lenName": 16,
    "lenType": 16,
    "lenVar": 40
   },
   "kernels_config": {
    "python": {
     "delete_cmd_postfix": "",
     "delete_cmd_prefix": "del ",
     "library": "var_list.py",
     "varRefreshCmd": "print(var_dic_list())"
    },
    "r": {
     "delete_cmd_postfix": ") ",
     "delete_cmd_prefix": "rm(",
     "library": "var_list.r",
     "varRefreshCmd": "cat(var_dic_list()) "
    }
   },
   "types_to_exclude": [
    "module",
    "function",
    "builtin_function_or_method",
    "instance",
    "_Feature"
   ],
   "window_display": false
  }
 },
 "nbformat": 4,
 "nbformat_minor": 4
}
