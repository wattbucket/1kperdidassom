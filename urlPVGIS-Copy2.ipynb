{
 "cells": [
  {
   "cell_type": "code",
   "execution_count": null,
   "metadata": {},
   "outputs": [],
   "source": [
    "# %%html\n",
    "# <script>\n",
    "# code_show=true; \n",
    "# function code_toggle() {\n",
    "#  if (code_show){\n",
    "#  $('div.input').hide();\n",
    "#  } else {\n",
    "#  $('div.input').show();\n",
    "#  }\n",
    "#  code_show = !code_show\n",
    "# } \n",
    "# $( document ).ready(code_toggle);\n",
    "\n",
    "\n",
    "# </script>\n",
    "\n",
    "\n",
    "# <form action=\"javascript:code_toggle()\"><input type=\"submit\" value=\" \n",
    "# Curso: Diseño y mantenimiento de instalaciones de energía solar fotovoltaica\n",
    "# Alumno: Francisco Manuel Roman Gamez\n",
    "\n",
    "# \"></form>"
   ]
  },
  {
   "cell_type": "code",
   "execution_count": null,
   "metadata": {},
   "outputs": [],
   "source": []
  },
  {
   "cell_type": "code",
   "execution_count": 13,
   "metadata": {},
   "outputs": [],
   "source": [
    "\n",
    "# https://ec.europa.eu/jrc/en/PVGIS/docs/noninteractive\n",
    "# https://ec.europa.eu/jrc/en/PVGIS/releases/pvgis51\n",
    "# https://re.jrc.ec.europa.eu/pvg_tools/es/#MR\n",
    "\n",
    "from flask import Flask, jsonify, render_template, request, session, json\n",
    "import requests as requests\n",
    "import pandas as pd # data wrangling\n",
    "import datetime\n",
    "from math import pi\n",
    "import numpy as np\n",
    "import matplotlib.pyplot as plt\n",
    "# "
   ]
  },
  {
   "cell_type": "code",
   "execution_count": 2,
   "metadata": {},
   "outputs": [],
   "source": [
    "tuples=[(0,0),(0,1),(1,0),(1,1),(2,0),(2,1),(3,0),(3,1),(4,0),(4,1),(5,0),(5,1),(6,0),(6,1),(7,0),(7,1)]\n",
    "index=pd.MultiIndex.from_tuples(tuples)\n",
    "p=[[-115,1],[-100,3],[-100,3],[-60,1],[-50,3],[-40,6],[-40,15],[-20,15],[-10,3],[0,6],[0,15],[10,25],[30,5],[50,7],[50,5],[70,2]]\n",
    "df=pd.DataFrame(p, index=index)\n",
    "# df\n",
    "\n",
    "st=pd.Series(0, index=np.arange(360))"
   ]
  },
  {
   "cell_type": "code",
   "execution_count": 3,
   "metadata": {},
   "outputs": [
    {
     "data": {
      "text/html": [
       "<div>\n",
       "<style scoped>\n",
       "    .dataframe tbody tr th:only-of-type {\n",
       "        vertical-align: middle;\n",
       "    }\n",
       "\n",
       "    .dataframe tbody tr th {\n",
       "        vertical-align: top;\n",
       "    }\n",
       "\n",
       "    .dataframe thead th {\n",
       "        text-align: right;\n",
       "    }\n",
       "</style>\n",
       "<table border=\"1\" class=\"dataframe\">\n",
       "  <thead>\n",
       "    <tr style=\"text-align: right;\">\n",
       "      <th></th>\n",
       "      <th></th>\n",
       "      <th>0</th>\n",
       "      <th>1</th>\n",
       "    </tr>\n",
       "  </thead>\n",
       "  <tbody>\n",
       "    <tr>\n",
       "      <th rowspan=\"2\" valign=\"top\">0</th>\n",
       "      <th>0</th>\n",
       "      <td>-115</td>\n",
       "      <td>1</td>\n",
       "    </tr>\n",
       "    <tr>\n",
       "      <th>1</th>\n",
       "      <td>-100</td>\n",
       "      <td>3</td>\n",
       "    </tr>\n",
       "    <tr>\n",
       "      <th rowspan=\"2\" valign=\"top\">1</th>\n",
       "      <th>0</th>\n",
       "      <td>-100</td>\n",
       "      <td>3</td>\n",
       "    </tr>\n",
       "    <tr>\n",
       "      <th>1</th>\n",
       "      <td>-60</td>\n",
       "      <td>1</td>\n",
       "    </tr>\n",
       "    <tr>\n",
       "      <th rowspan=\"2\" valign=\"top\">2</th>\n",
       "      <th>0</th>\n",
       "      <td>-50</td>\n",
       "      <td>3</td>\n",
       "    </tr>\n",
       "    <tr>\n",
       "      <th>1</th>\n",
       "      <td>-40</td>\n",
       "      <td>6</td>\n",
       "    </tr>\n",
       "    <tr>\n",
       "      <th rowspan=\"2\" valign=\"top\">3</th>\n",
       "      <th>0</th>\n",
       "      <td>-40</td>\n",
       "      <td>15</td>\n",
       "    </tr>\n",
       "    <tr>\n",
       "      <th>1</th>\n",
       "      <td>-20</td>\n",
       "      <td>15</td>\n",
       "    </tr>\n",
       "    <tr>\n",
       "      <th rowspan=\"2\" valign=\"top\">4</th>\n",
       "      <th>0</th>\n",
       "      <td>-10</td>\n",
       "      <td>3</td>\n",
       "    </tr>\n",
       "    <tr>\n",
       "      <th>1</th>\n",
       "      <td>0</td>\n",
       "      <td>6</td>\n",
       "    </tr>\n",
       "    <tr>\n",
       "      <th rowspan=\"2\" valign=\"top\">5</th>\n",
       "      <th>0</th>\n",
       "      <td>0</td>\n",
       "      <td>15</td>\n",
       "    </tr>\n",
       "    <tr>\n",
       "      <th>1</th>\n",
       "      <td>10</td>\n",
       "      <td>25</td>\n",
       "    </tr>\n",
       "    <tr>\n",
       "      <th rowspan=\"2\" valign=\"top\">6</th>\n",
       "      <th>0</th>\n",
       "      <td>30</td>\n",
       "      <td>5</td>\n",
       "    </tr>\n",
       "    <tr>\n",
       "      <th>1</th>\n",
       "      <td>50</td>\n",
       "      <td>7</td>\n",
       "    </tr>\n",
       "    <tr>\n",
       "      <th rowspan=\"2\" valign=\"top\">7</th>\n",
       "      <th>0</th>\n",
       "      <td>50</td>\n",
       "      <td>5</td>\n",
       "    </tr>\n",
       "    <tr>\n",
       "      <th>1</th>\n",
       "      <td>70</td>\n",
       "      <td>2</td>\n",
       "    </tr>\n",
       "  </tbody>\n",
       "</table>\n",
       "</div>"
      ],
      "text/plain": [
       "       0   1\n",
       "0 0 -115   1\n",
       "  1 -100   3\n",
       "1 0 -100   3\n",
       "  1  -60   1\n",
       "2 0  -50   3\n",
       "  1  -40   6\n",
       "3 0  -40  15\n",
       "  1  -20  15\n",
       "4 0  -10   3\n",
       "  1    0   6\n",
       "5 0    0  15\n",
       "  1   10  25\n",
       "6 0   30   5\n",
       "  1   50   7\n",
       "7 0   50   5\n",
       "  1   70   2"
      ]
     },
     "execution_count": 3,
     "metadata": {},
     "output_type": "execute_result"
    }
   ],
   "source": [
    "df"
   ]
  },
  {
   "cell_type": "code",
   "execution_count": 4,
   "metadata": {},
   "outputs": [
    {
     "data": {
      "text/html": [
       "<div>\n",
       "<style scoped>\n",
       "    .dataframe tbody tr th:only-of-type {\n",
       "        vertical-align: middle;\n",
       "    }\n",
       "\n",
       "    .dataframe tbody tr th {\n",
       "        vertical-align: top;\n",
       "    }\n",
       "\n",
       "    .dataframe thead th {\n",
       "        text-align: right;\n",
       "    }\n",
       "</style>\n",
       "<table border=\"1\" class=\"dataframe\">\n",
       "  <thead>\n",
       "    <tr style=\"text-align: right;\">\n",
       "      <th></th>\n",
       "      <th>0</th>\n",
       "      <th>1</th>\n",
       "    </tr>\n",
       "  </thead>\n",
       "  <tbody>\n",
       "    <tr>\n",
       "      <th>0</th>\n",
       "      <td>50</td>\n",
       "      <td>5</td>\n",
       "    </tr>\n",
       "    <tr>\n",
       "      <th>1</th>\n",
       "      <td>70</td>\n",
       "      <td>2</td>\n",
       "    </tr>\n",
       "  </tbody>\n",
       "</table>\n",
       "</div>"
      ],
      "text/plain": [
       "    0  1\n",
       "0  50  5\n",
       "1  70  2"
      ]
     },
     "execution_count": 4,
     "metadata": {},
     "output_type": "execute_result"
    }
   ],
   "source": [
    "df.loc[7]"
   ]
  },
  {
   "cell_type": "code",
   "execution_count": 5,
   "metadata": {},
   "outputs": [
    {
     "data": {
      "text/plain": [
       "50"
      ]
     },
     "execution_count": 5,
     "metadata": {},
     "output_type": "execute_result"
    }
   ],
   "source": [
    "df.loc[7].at[0,0]"
   ]
  },
  {
   "cell_type": "code",
   "execution_count": 7,
   "metadata": {},
   "outputs": [],
   "source": [
    "punto='7,1,82,20'\n",
    "pp = pd.DataFrame([x.split(',') for x in punto.split('\\n')])\n",
    "pp=pp.astype(int)\n",
    "# actualiza la tabla de puntos\n",
    "df.loc[pp.at[0,0]].at[pp.at[0,1],0]=pp.at[0,2]\n",
    "df.loc[pp.at[0,0]].at[pp.at[0,1],1]=pp.at[0,3]"
   ]
  },
  {
   "cell_type": "code",
   "execution_count": 8,
   "metadata": {},
   "outputs": [
    {
     "data": {
      "text/html": [
       "<div>\n",
       "<style scoped>\n",
       "    .dataframe tbody tr th:only-of-type {\n",
       "        vertical-align: middle;\n",
       "    }\n",
       "\n",
       "    .dataframe tbody tr th {\n",
       "        vertical-align: top;\n",
       "    }\n",
       "\n",
       "    .dataframe thead th {\n",
       "        text-align: right;\n",
       "    }\n",
       "</style>\n",
       "<table border=\"1\" class=\"dataframe\">\n",
       "  <thead>\n",
       "    <tr style=\"text-align: right;\">\n",
       "      <th></th>\n",
       "      <th></th>\n",
       "      <th>0</th>\n",
       "      <th>1</th>\n",
       "    </tr>\n",
       "  </thead>\n",
       "  <tbody>\n",
       "    <tr>\n",
       "      <th rowspan=\"2\" valign=\"top\">0</th>\n",
       "      <th>0</th>\n",
       "      <td>-115</td>\n",
       "      <td>1</td>\n",
       "    </tr>\n",
       "    <tr>\n",
       "      <th>1</th>\n",
       "      <td>-100</td>\n",
       "      <td>3</td>\n",
       "    </tr>\n",
       "    <tr>\n",
       "      <th rowspan=\"2\" valign=\"top\">1</th>\n",
       "      <th>0</th>\n",
       "      <td>-100</td>\n",
       "      <td>3</td>\n",
       "    </tr>\n",
       "    <tr>\n",
       "      <th>1</th>\n",
       "      <td>-60</td>\n",
       "      <td>1</td>\n",
       "    </tr>\n",
       "    <tr>\n",
       "      <th rowspan=\"2\" valign=\"top\">2</th>\n",
       "      <th>0</th>\n",
       "      <td>-50</td>\n",
       "      <td>3</td>\n",
       "    </tr>\n",
       "    <tr>\n",
       "      <th>1</th>\n",
       "      <td>-40</td>\n",
       "      <td>6</td>\n",
       "    </tr>\n",
       "    <tr>\n",
       "      <th rowspan=\"2\" valign=\"top\">3</th>\n",
       "      <th>0</th>\n",
       "      <td>-40</td>\n",
       "      <td>15</td>\n",
       "    </tr>\n",
       "    <tr>\n",
       "      <th>1</th>\n",
       "      <td>-20</td>\n",
       "      <td>15</td>\n",
       "    </tr>\n",
       "    <tr>\n",
       "      <th rowspan=\"2\" valign=\"top\">4</th>\n",
       "      <th>0</th>\n",
       "      <td>-10</td>\n",
       "      <td>3</td>\n",
       "    </tr>\n",
       "    <tr>\n",
       "      <th>1</th>\n",
       "      <td>0</td>\n",
       "      <td>6</td>\n",
       "    </tr>\n",
       "    <tr>\n",
       "      <th rowspan=\"2\" valign=\"top\">5</th>\n",
       "      <th>0</th>\n",
       "      <td>0</td>\n",
       "      <td>15</td>\n",
       "    </tr>\n",
       "    <tr>\n",
       "      <th>1</th>\n",
       "      <td>10</td>\n",
       "      <td>25</td>\n",
       "    </tr>\n",
       "    <tr>\n",
       "      <th rowspan=\"2\" valign=\"top\">6</th>\n",
       "      <th>0</th>\n",
       "      <td>30</td>\n",
       "      <td>5</td>\n",
       "    </tr>\n",
       "    <tr>\n",
       "      <th>1</th>\n",
       "      <td>50</td>\n",
       "      <td>7</td>\n",
       "    </tr>\n",
       "    <tr>\n",
       "      <th rowspan=\"2\" valign=\"top\">7</th>\n",
       "      <th>0</th>\n",
       "      <td>50</td>\n",
       "      <td>5</td>\n",
       "    </tr>\n",
       "    <tr>\n",
       "      <th>1</th>\n",
       "      <td>82</td>\n",
       "      <td>20</td>\n",
       "    </tr>\n",
       "  </tbody>\n",
       "</table>\n",
       "</div>"
      ],
      "text/plain": [
       "       0   1\n",
       "0 0 -115   1\n",
       "  1 -100   3\n",
       "1 0 -100   3\n",
       "  1  -60   1\n",
       "2 0  -50   3\n",
       "  1  -40   6\n",
       "3 0  -40  15\n",
       "  1  -20  15\n",
       "4 0  -10   3\n",
       "  1    0   6\n",
       "5 0    0  15\n",
       "  1   10  25\n",
       "6 0   30   5\n",
       "  1   50   7\n",
       "7 0   50   5\n",
       "  1   82  20"
      ]
     },
     "execution_count": 8,
     "metadata": {},
     "output_type": "execute_result"
    }
   ],
   "source": [
    "\n",
    "\n",
    "# puntos.at[(ppunto.at[0,0]*3+ppunto.at[0,1]),3]=ppunto.at[0,3]\n",
    "# puntos\n",
    "df"
   ]
  },
  {
   "cell_type": "code",
   "execution_count": 9,
   "metadata": {},
   "outputs": [],
   "source": [
    "\n",
    "p=df.values.tolist()\n",
    "# p"
   ]
  },
  {
   "cell_type": "code",
   "execution_count": 10,
   "metadata": {},
   "outputs": [
    {
     "data": {
      "text/plain": [
       "<matplotlib.axes._subplots.AxesSubplot at 0x7f418556d588>"
      ]
     },
     "execution_count": 10,
     "metadata": {},
     "output_type": "execute_result"
    },
    {
     "data": {
      "image/png": "[encoded data removed]",
      "text/plain": [
       "<Figure size 432x288 with 1 Axes>"
      ]
     },
     "metadata": {
      "needs_background": "light"
     },
     "output_type": "display_data"
    }
   ],
   "source": [
    "def horizonte(p,df):\n",
    "    dfp=df.loc[p,:]\n",
    "    pp=dfp.values.tolist()\n",
    "    pp.sort()\n",
    "    pp=([-180,0],[pp[0][0]-1,0],pp[0],pp[1],[pp[1][0]+1,0],[180,0])\n",
    "    ddf=pd.DataFrame(pp)\n",
    "    ddf[0]=ddf[0]+180\n",
    "\n",
    "    d = pd.Series(np.nan, index=np.arange(360))\n",
    "\n",
    "    ii=ddf.index.tolist()\n",
    "    for i in ii: \n",
    "        d.at[ddf.at[i,0]]=ddf.at[i,1]\n",
    "    s=d.interpolate()\n",
    "    return s\n",
    "puntos=list(set(index.get_level_values(0)))\n",
    "for p in puntos:\n",
    "    s=horizonte(p,df)\n",
    "    st=st.combine(s, max, 0)\n",
    "st.plot()"
   ]
  },
  {
   "cell_type": "code",
   "execution_count": null,
   "metadata": {},
   "outputs": [],
   "source": [
    "\n"
   ]
  },
  {
   "cell_type": "code",
   "execution_count": 11,
   "metadata": {},
   "outputs": [],
   "source": [
    "lat='40';lon='-4'\n"
   ]
  },
  {
   "cell_type": "code",
   "execution_count": 14,
   "metadata": {},
   "outputs": [
    {
     "data": {
      "text/plain": [
       "{'fixed': {'E_d': 4.88,\n",
       "  'E_m': 148.57,\n",
       "  'E_y': 1782.86,\n",
       "  'H(i)_d': 5.44,\n",
       "  'H(i)_m': 165.48,\n",
       "  'H(i)_y': 1985.71,\n",
       "  'SD_m': 4.8,\n",
       "  'SD_y': 57.59,\n",
       "  'l_aoi': -2.74,\n",
       "  'l_spec': '0.43',\n",
       "  'l_tg': -8.08,\n",
       "  'l_total': -10.22}}"
      ]
     },
     "execution_count": 14,
     "metadata": {},
     "output_type": "execute_result"
    }
   ],
   "source": [
    "hh=st.tolist()\n",
    "hh = [round(x,2) for x in hh]\n",
    "hh=hh[0:359]\n",
    "# Calculos\n",
    "# ????????????????   irraciacion\n",
    "# url=\"https://re.jrc.ec.europa.eu/api/DRcalc?lat=\"+lat+\"&lon=\"+lon+\"&month=\"+mes+\"&global=1\"\n",
    "\n",
    "url=\"https://re.jrc.ec.europa.eu/api/PVcalc?lat=\"+lat+\"&lon=\"+lon+\"&peakpower=1&loss=0\"\n",
    "url=url+\"&angle=30\" # angle Inclination angle from horizontal plane of the (fixed) PV system. \n",
    "url=url+\"&aspect=44\"    #Orientation (azimuth) angle of the (fixed) PV system, 0=south, 90=west, -90=east.\n",
    "url=url+\"&localtime=1\"\n",
    "url=url+\"&outputformat=json\"\n",
    "# hh=[0,10,20,80,40,15,25,5]\n",
    "url=url+\"&userhorizon=\"+str(hh).strip('[]')\n",
    "# print(url)\n",
    "r = requests.get(url)\n",
    "data = r.json()\n",
    "j=data[\"outputs\"][\"totals\"]\n",
    "# data\n",
    "j"
   ]
  },
  {
   "cell_type": "code",
   "execution_count": null,
   "metadata": {},
   "outputs": [],
   "source": [
    "d = pd.Series(0, index=np.arange(359))\n",
    "hh=d.tolist()"
   ]
  },
  {
   "cell_type": "code",
   "execution_count": null,
   "metadata": {},
   "outputs": [],
   "source": [
    "# Calculos\n",
    "# ????????????????   irraciacion\n",
    "# url=\"https://re.jrc.ec.europa.eu/api/DRcalc?lat=\"+lat+\"&lon=\"+lon+\"&month=\"+mes+\"&global=1\"\n",
    "\n",
    "url=\"https://re.jrc.ec.europa.eu/api/PVcalc?lat=\"+lat+\"&lon=\"+lon+\"&peakpower=1&loss=0\"\n",
    "    \n",
    "url=url+\"&localtime=1\"\n",
    "url=url+\"&outputformat=json\"\n",
    "url=url+\"&userhorizon=\"+str(hh).strip('[]')\n",
    "\n",
    "# url=url+\"&userhorizon=\"+str(hh).strip('[]')\n",
    "# print(url)\n",
    "r = requests.get(url)\n",
    "data = r.json()\n",
    "data\n",
    "j=data[\"outputs\"][\"totals\"]\n",
    "j"
   ]
  },
  {
   "cell_type": "code",
   "execution_count": null,
   "metadata": {},
   "outputs": [],
   "source": [
    "jf= json.dumps(j, indent=2)\n",
    "df=pd.read_json(jf, orient='records') \n",
    "df.T"
   ]
  },
  {
   "cell_type": "code",
   "execution_count": null,
   "metadata": {},
   "outputs": [],
   "source": []
  },
  {
   "cell_type": "code",
   "execution_count": null,
   "metadata": {},
   "outputs": [],
   "source": [
    "# Calculos\n",
    "# ????????????????   irraciacion\n",
    "# url=\"https://re.jrc.ec.europa.eu/api/DRcalc?lat=\"+lat+\"&lon=\"+lon+\"&month=\"+mes+\"&global=1\"\n",
    "\n",
    "url=\"https://re.jrc.ec.europa.eu/api/PVcalc?lat=\"+lat+\"&lon=\"+lon+\"&peakpower=1&loss=0\"\n",
    "    \n",
    "url=url+\"&localtime=1\"\n",
    "url=url+\"&outputformat=json\"\n",
    "print(url)\n"
   ]
  },
  {
   "cell_type": "code",
   "execution_count": null,
   "metadata": {},
   "outputs": [],
   "source": [
    "j=data[\"outputs\"][\"monthly\"][\"fixed\"]\n",
    "jf= json.dumps(j, indent=2)\n",
    "df=pd.read_json(jf, orient='records') \n",
    "dfp=df\n",
    "df=df.to_html()\n",
    "\n",
    "# E=irradiacion\n",
    "# E=850 para probar con los datos del idae\n",
    "\n",
    "ax=dfp.plot(kind='bar',y=['E_m']);ax.set_ylabel(\"$MJ / m^2 * d$\");\n",
    "dfp"
   ]
  },
  {
   "cell_type": "code",
   "execution_count": null,
   "metadata": {},
   "outputs": [],
   "source": []
  },
  {
   "cell_type": "markdown",
   "metadata": {},
   "source": [
    "{{dfp}}"
   ]
  },
  {
   "cell_type": "code",
   "execution_count": null,
   "metadata": {},
   "outputs": [],
   "source": []
  }
 ],
 "metadata": {
  "kernelspec": {
   "display_name": "Python 3",
   "language": "python",
   "name": "python3"
  },
  "language_info": {
   "codemirror_mode": {
    "name": "ipython",
    "version": 3
   },
   "file_extension": ".py",
   "mimetype": "text/x-python",
   "name": "python",
   "nbconvert_exporter": "python",
   "pygments_lexer": "ipython3",
   "version": "3.6.9"
  },
  "latex_envs": {
   "LaTeX_envs_menu_present": true,
   "autoclose": false,
   "autocomplete": true,
   "bibliofile": "biblio.bib",
   "cite_by": "apalike",
   "current_citInitial": 1,
   "eqLabelWithNumbers": true,
   "eqNumInitial": 1,
   "hotkeys": {
    "equation": "Ctrl-E",
    "itemize": "Ctrl-I"
   },
   "labels_anchors": false,
   "latex_user_defs": false,
   "report_style_numbering": false,
   "user_envs_cfg": false
  },
  "varInspector": {
   "cols": {
    "lenName": 16,
    "lenType": 16,
    "lenVar": 40
   },
   "kernels_config": {
    "python": {
     "delete_cmd_postfix": "",
     "delete_cmd_prefix": "del ",
     "library": "var_list.py",
     "varRefreshCmd": "print(var_dic_list())"
    },
    "r": {
     "delete_cmd_postfix": ") ",
     "delete_cmd_prefix": "rm(",
     "library": "var_list.r",
     "varRefreshCmd": "cat(var_dic_list()) "
    }
   },
   "types_to_exclude": [
    "module",
    "function",
    "builtin_function_or_method",
    "instance",
    "_Feature"
   ],
   "window_display": false
  }
 },
 "nbformat": 4,
 "nbformat_minor": 4
}
