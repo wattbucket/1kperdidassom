{
 "cells": [
  {
   "cell_type": "code",
   "execution_count": null,
   "metadata": {},
   "outputs": [],
   "source": [
    "# %%html\n",
    "# <script>\n",
    "# code_show=true; \n",
    "# function code_toggle() {\n",
    "#  if (code_show){\n",
    "#  $('div.input').hide();\n",
    "#  } else {\n",
    "#  $('div.input').show();\n",
    "#  }\n",
    "#  code_show = !code_show\n",
    "# } \n",
    "# $( document ).ready(code_toggle);\n",
    "# </script>\n",
    "# <form action=\"javascript:code_toggle()\"><input type=\"submit\" value=\" \n",
    "# Curso: Diseño y mantenimiento de instalaciones de energía solar fotovoltaica\n",
    "# Alumno: Francisco Manuel Roman Gamez\n",
    "\n",
    "# \"></form>"
   ]
  },
  {
   "cell_type": "code",
   "execution_count": null,
   "metadata": {},
   "outputs": [],
   "source": []
  },
  {
   "cell_type": "code",
   "execution_count": 113,
   "metadata": {},
   "outputs": [],
   "source": [
    "# https://ec.europa.eu/jrc/en/PVGIS/docs/noninteractive\n",
    "# https://ec.europa.eu/jrc/en/PVGIS/releases/pvgis51\n",
    "# https://re.jrc.ec.europa.eu/pvg_tools/es/#MR\n",
    "\n",
    "from flask import Flask, jsonify, render_template, request, session, json\n",
    "import requests as requests\n",
    "\n",
    "import pandas as pd # data wrangling\n",
    "import datetime\n",
    "from math import pi\n",
    "import numpy as np\n",
    "import matplotlib.pyplot as plt"
   ]
  },
  {
   "cell_type": "code",
   "execution_count": 138,
   "metadata": {},
   "outputs": [
    {
     "data": {
      "text/plain": [
       "[<matplotlib.lines.Line2D at 0x7ff68eb57518>]"
      ]
     },
     "execution_count": 138,
     "metadata": {},
     "output_type": "execute_result"
    },
    {
     "data": {
      "image/png": "[encoded data removed]",
      "text/plain": [
       "<Figure size 1080x576 with 1 Axes>"
      ]
     },
     "metadata": {
      "needs_background": "light"
     },
     "output_type": "display_data"
    }
   ],
   "source": [
    "# p=session[\"p\"]\n",
    "p=[[-80,0],[-100,0],[-40,0],[-60,0],[-0,5],[-20,0],[0,10],[20,0],[40,0],[60,0],[80,0],[100,0]]\n",
    "\n",
    "# Ess=session[\"Ess\"]\n",
    "\n",
    "# datos del navegador\n",
    "latitud = 40\n",
    "longitud = -4\n",
    "inclinacion = 30\n",
    "orientacion = 0\n",
    "punto = '3,1,74,60'\n",
    "Es0 = 2123.67\n",
    "\n",
    "\n",
    "\n",
    "\n",
    "# \\\\\\\\\\\\\\\\\\\\\\\\\\\\\\\\\\\\\\\\\\\\\\\\\\\\\\\\\\\\\\\\\\\\\\\\\\\\\\\\\\\\\\\\\\\\\\\\\\\\\\\n",
    "# pedidas con el horizonte de la figura\n",
    "def horizonte(p,df):\n",
    "    dfp=df.loc[p,:]\n",
    "    pp=dfp.values.tolist()\n",
    "    #     para qeu de igual el orden de los dos puntos\n",
    "    pp.sort()\n",
    "    # y pone a cero un punto delante u toro de tras para poder interpolar con los extremos a cero\n",
    "    pp=([-180,0],[pp[0][0]-1,0],pp[0],pp[1],[pp[1][0]+1,0],[180,0])\n",
    "    ddf=pd.DataFrame(pp)\n",
    "    ddf[0]=ddf[0]+180\n",
    "    # crea el perfil a cero\n",
    "    d = pd.Series(np.nan, index=np.arange(360))\n",
    "    # y le anade los puntos\n",
    "    ii=ddf.index.tolist()\n",
    "    for i in ii: \n",
    "        d.at[ddf.at[i,0]]=ddf.at[i,1]\n",
    "    s=d.interpolate()\n",
    "    return s\n",
    "#\n",
    "# tuples=[(0,0),(0,1),(1,0),(1,1),(2,0),(2,1),(3,0),(3,1),(4,0),(4,1),(5,0),(5,1),(6,0),(6,1),(7,0),(7,1)]\n",
    "tuples=[(0,0),(0,1),(1,0),(1,1),(2,0),(2,1),(3,0),(3,1),(4,0),(4,1),(5,0),(5,1)]\n",
    "index=pd.MultiIndex.from_tuples(tuples)\n",
    "\n",
    "st=pd.Series(0, index=np.arange(360))\n",
    "df=pd.DataFrame(p, index=index)\n",
    "# session.pop('p', None) #####   !!!! ojo libera la sesion para poder y acumulando los cambios\n",
    "# actualiza con el punto del front\n",
    "pp = pd.DataFrame([x.split(',') for x in punto.split('\\n')])\n",
    "pp=pp.astype(int) \n",
    "# actualiza la tabla de puntos\n",
    "df.loc[pp.at[0,0]].at[pp.at[0,1],0]=pp.at[0,2]\n",
    "df.loc[pp.at[0,0]].at[pp.at[0,1],1]=pp.at[0,3]\n",
    "# print(df)\n",
    "p=df.values.tolist()\n",
    "\n",
    "# para combinar en un solo perfil los perfiles de las parejas de ppuntos\n",
    "puntos=list(set(index.get_level_values(0)))\n",
    "for i in puntos:\n",
    "    s=horizonte(i,df)\n",
    "    st=st.combine(s, max, 0)\n",
    "\n",
    "\n",
    "hh=st.tolist()\n",
    "hh = [round(x,2) for x in hh]\n",
    "hh=hh[0:359]\n",
    "\n",
    "fig,ax=plt.subplots(figsize=(15,8))\n",
    "ax.plot(hh)\n"
   ]
  },
  {
   "cell_type": "code",
   "execution_count": null,
   "metadata": {},
   "outputs": [],
   "source": []
  },
  {
   "cell_type": "code",
   "execution_count": null,
   "metadata": {},
   "outputs": [],
   "source": []
  },
  {
   "cell_type": "code",
   "execution_count": null,
   "metadata": {},
   "outputs": [],
   "source": []
  },
  {
   "cell_type": "code",
   "execution_count": null,
   "metadata": {},
   "outputs": [],
   "source": []
  },
  {
   "cell_type": "code",
   "execution_count": null,
   "metadata": {},
   "outputs": [],
   "source": []
  },
  {
   "cell_type": "code",
   "execution_count": null,
   "metadata": {},
   "outputs": [],
   "source": []
  },
  {
   "cell_type": "code",
   "execution_count": null,
   "metadata": {},
   "outputs": [],
   "source": []
  },
  {
   "cell_type": "code",
   "execution_count": null,
   "metadata": {},
   "outputs": [],
   "source": []
  },
  {
   "cell_type": "code",
   "execution_count": null,
   "metadata": {},
   "outputs": [],
   "source": []
  },
  {
   "cell_type": "code",
   "execution_count": null,
   "metadata": {},
   "outputs": [],
   "source": []
  },
  {
   "cell_type": "code",
   "execution_count": null,
   "metadata": {},
   "outputs": [],
   "source": []
  },
  {
   "cell_type": "code",
   "execution_count": null,
   "metadata": {},
   "outputs": [],
   "source": []
  },
  {
   "cell_type": "code",
   "execution_count": null,
   "metadata": {},
   "outputs": [],
   "source": []
  },
  {
   "cell_type": "code",
   "execution_count": null,
   "metadata": {},
   "outputs": [],
   "source": []
  },
  {
   "cell_type": "code",
   "execution_count": 157,
   "metadata": {},
   "outputs": [
    {
     "data": {
      "text/plain": [
       "[<matplotlib.lines.Line2D at 0x7ff68e2dbcc0>]"
      ]
     },
     "execution_count": 157,
     "metadata": {},
     "output_type": "execute_result"
    },
    {
     "data": {
      "image/png": "[encoded data removed]",
      "text/plain": [
       "<Figure size 1080x576 with 1 Axes>"
      ]
     },
     "metadata": {
      "needs_background": "light"
     },
     "output_type": "display_data"
    }
   ],
   "source": [
    "from pvlib import solarposition\n",
    "import pandas as pd\n",
    "import numpy as np\n",
    "import matplotlib.pyplot as plt\n",
    "# import datetime\n",
    "# import pvlib\n",
    "\n",
    "tz = 'Europe/Madrid'\n",
    "lat, lon = 40.416644, -3.703792 # madrid\n",
    "# lat, lon = 36.664240, -4.458649 # mia\n",
    "si= pd.date_range(start='2019-12-20 23:00:00', periods=48, freq='30T', tz=tz)\n",
    "sv= pd.date_range(start='2019-06-20 23:00:00', periods=48, freq='30T', tz=tz)\n",
    "# TT=si.union(sv).union(ei).union(ev)\n",
    "# TT=si.union(sv)\n",
    "# TT=dias\n",
    "\n",
    "\n",
    "dfv = solarposition.get_solarposition(sv, lat, lon)\n",
    "# remove nighttime\n",
    "dfv = dfv.loc[dfv['apparent_elevation'] > 0, :]\n",
    "dfv['azimut']=dfv['azimuth']-180\n",
    "# dfv.plot(kind='line',x='azimut',y='apparent_elevation',figsize=(15,10));\n",
    "\n",
    "dfi = solarposition.get_solarposition(si, lat, lon)\n",
    "dfi = dfi.loc[dfi['apparent_elevation'] > 0, :]\n",
    "dfi['azimut']=dfi['azimuth']-180\n",
    "# dfi.plot(kind='line',x='azimut',y='apparent_elevation',figsize=(15,10));\n",
    "dfv1=dfv[['azimut','apparent_elevation']]\n",
    "dfi1=dfi[['azimut','apparent_elevation']]\n",
    "# solsticio de verano\n",
    "ss=pd.Series(np.nan, index=np.arange(360))\n",
    "dd=dfv1.rename(columns={'azimut':'x','apparent_elevation':'y'})\n",
    "\n",
    "dd['x']=round(dd['x'],0)\n",
    "xx=dd['x'].tolist()\n",
    "xx=[int(i) for i in xx]\n",
    "xx=[i+180 for i in xx]\n",
    "# \n",
    "dd['y']=round(dd['y'],0)\n",
    "yy=dd['y'].tolist()\n",
    "yy=[int(i) for i in yy]\n",
    "for i in range(len(xx)): \n",
    "    ss.at[xx[i]]=yy[i]\n",
    "ss.at[0]=0\n",
    "ss=ss.interpolate()\n",
    "\n",
    "hsv=ss.tolist()\n",
    "# solsticio de invierno\n",
    "ss=pd.Series(np.nan, index=np.arange(360))\n",
    "dd=dfi1.rename(columns={'azimut':'x','apparent_elevation':'y'})\n",
    "\n",
    "dd['x']=round(dd['x'],0)\n",
    "xx=dd['x'].tolist()\n",
    "xx=[int(i) for i in xx]\n",
    "xx=[i+180 for i in xx]\n",
    "# \n",
    "dd['y']=round(dd['y'],0)\n",
    "yy=dd['y'].tolist()\n",
    "yy=[int(i) for i in yy]\n",
    "for i in range(len(xx)): \n",
    "    ss.at[xx[i]]=yy[i]\n",
    "ss.at[0]=0\n",
    "ss=ss.interpolate()\n",
    "\n",
    "hsi=ss.tolist()\n",
    "fig,ax=plt.subplots(figsize=(15,8))\n",
    "ax.plot(hh)\n",
    "ax.plot(hsv)\n",
    "ax.plot(hsi)"
   ]
  },
  {
   "cell_type": "code",
   "execution_count": null,
   "metadata": {},
   "outputs": [],
   "source": []
  },
  {
   "cell_type": "code",
   "execution_count": null,
   "metadata": {},
   "outputs": [],
   "source": []
  },
  {
   "cell_type": "code",
   "execution_count": null,
   "metadata": {},
   "outputs": [],
   "source": []
  },
  {
   "cell_type": "code",
   "execution_count": null,
   "metadata": {},
   "outputs": [],
   "source": []
  },
  {
   "cell_type": "code",
   "execution_count": 7,
   "metadata": {},
   "outputs": [
    {
     "name": "stdout",
     "output_type": "stream",
     "text": [
      "2123.67\n"
     ]
    }
   ],
   "source": [
    "# Calculos\n",
    "# ????????????????   irraciacion\n",
    "# url=\"https://re.jrc.ec.europa.eu/api/DRcalc?lat=\"+lat+\"&lon=\"+lon+\"&month=\"+mes+\"&global=1\"\n",
    "\n",
    "url=\"https://re.jrc.ec.europa.eu/api/PVcalc?lat=\"+str(latitud)+\"&lon=\"+str(longitud)+\"&peakpower=1&loss=0\"\n",
    "url=url+\"&angle=\"+str(inclinacion) # angle Inclination angle from horizontal plane of the (fixed) PV system. \n",
    "url=url+\"&aspect=\"+str(orientacion)    #Orientation (azimuth) angle of the (fixed) PV system, 0=south, 90=west, -90=east.\n",
    "url=url+\"&localtime=1\"\n",
    "url=url+\"&outputformat=json\"\n",
    "# print(url)\n",
    "# hh=[0,10,20,80,40,15,25,5]\n",
    "url=url+\"&userhorizon=\"+str(hh).strip('[]')\n",
    "# print(url)\n",
    "r = requests.get(url)\n",
    "data = r.json()\n",
    "# session.pop('E', None) #####   !!!! ojo libera la sesion para poder y acumulando los cambios\n",
    "E=data[\"outputs\"][\"totals\"][\"fixed\"][\"H(i)_y\"]\n",
    "\n",
    "\n",
    "\n",
    "\n",
    "\n",
    "# session.pop('P', None) #####   !!!! ojo libera la sesion para poder y acumulando los cambios\n",
    "print(Es0)\n",
    "Es0=float(Es0)\n",
    "P=100-E*100/Es0\n",
    "P=round(P,2)\n",
    "# \n",
    "# calculo de las perdidas"
   ]
  },
  {
   "cell_type": "code",
   "execution_count": 78,
   "metadata": {},
   "outputs": [],
   "source": [
    "\n"
   ]
  },
  {
   "cell_type": "code",
   "execution_count": 79,
   "metadata": {},
   "outputs": [
    {
     "data": {
      "text/plain": [
       "7"
      ]
     },
     "execution_count": 79,
     "metadata": {},
     "output_type": "execute_result"
    }
   ],
   "source": []
  },
  {
   "cell_type": "code",
   "execution_count": null,
   "metadata": {},
   "outputs": [],
   "source": []
  },
  {
   "cell_type": "code",
   "execution_count": 77,
   "metadata": {
    "code_folding": []
   },
   "outputs": [],
   "source": []
  },
  {
   "cell_type": "code",
   "execution_count": null,
   "metadata": {},
   "outputs": [],
   "source": []
  },
  {
   "cell_type": "code",
   "execution_count": 90,
   "metadata": {},
   "outputs": [
    {
     "data": {
      "text/plain": [
       "<matplotlib.axes._subplots.AxesSubplot at 0x7ff68f6b5cc0>"
      ]
     },
     "execution_count": 90,
     "metadata": {},
     "output_type": "execute_result"
    },
    {
     "data": {
      "image/png": "[encoded data removed]",
      "text/plain": [
       "<Figure size 432x288 with 1 Axes>"
      ]
     },
     "metadata": {
      "needs_background": "light"
     },
     "output_type": "display_data"
    }
   ],
   "source": [
    "ss.plot()\n"
   ]
  },
  {
   "cell_type": "code",
   "execution_count": 72,
   "metadata": {},
   "outputs": [
    {
     "name": "stdout",
     "output_type": "stream",
     "text": [
      "0\n",
      "1\n",
      "2\n",
      "3\n",
      "4\n",
      "5\n",
      "6\n",
      "7\n",
      "8\n",
      "9\n",
      "10\n",
      "11\n",
      "12\n",
      "13\n",
      "14\n",
      "15\n",
      "16\n",
      "17\n",
      "18\n",
      "19\n",
      "20\n",
      "21\n",
      "22\n",
      "23\n",
      "24\n",
      "25\n",
      "26\n",
      "27\n",
      "28\n",
      "29\n"
     ]
    }
   ],
   "source": [
    "for x in range(len(xx)):\n",
    "  print(x)"
   ]
  },
  {
   "cell_type": "code",
   "execution_count": null,
   "metadata": {},
   "outputs": [],
   "source": []
  },
  {
   "cell_type": "code",
   "execution_count": null,
   "metadata": {},
   "outputs": [],
   "source": []
  },
  {
   "cell_type": "code",
   "execution_count": null,
   "metadata": {},
   "outputs": [],
   "source": []
  },
  {
   "cell_type": "code",
   "execution_count": 5,
   "metadata": {},
   "outputs": [
    {
     "data": {
      "text/plain": [
       "(36, 36, 360)"
      ]
     },
     "execution_count": 5,
     "metadata": {},
     "output_type": "execute_result"
    }
   ],
   "source": [
    "dfi2.size,dfi1.size,ss.size"
   ]
  },
  {
   "cell_type": "code",
   "execution_count": null,
   "metadata": {},
   "outputs": [],
   "source": []
  },
  {
   "cell_type": "code",
   "execution_count": null,
   "metadata": {},
   "outputs": [],
   "source": [
    "fig,ax=plt.subplots(figsize=(15,8))\n",
    "ax.plot(hh)"
   ]
  },
  {
   "cell_type": "code",
   "execution_count": 14,
   "metadata": {},
   "outputs": [
    {
     "data": {
      "text/plain": [
       "[<matplotlib.lines.Line2D at 0x7f277a3ce978>]"
      ]
     },
     "execution_count": 14,
     "metadata": {},
     "output_type": "execute_result"
    },
    {
     "data": {
      "image/png": "[encoded data removed]",
      "text/plain": [
       "<Figure size 432x288 with 1 Axes>"
      ]
     },
     "metadata": {
      "needs_background": "light"
     },
     "output_type": "display_data"
    }
   ],
   "source": [
    "xs = range(8)\n",
    "series1 = [1, 3, 3, None, None, 5, 8, 9]\n",
    "series2 = [2, None, 5, None, 4, None, 3, 2]\n",
    "\n",
    "plt.plot(xs, series1, linestyle='-', marker='o')\n",
    "plt.plot(xs, series2, linestyle='-', marker='o')"
   ]
  },
  {
   "cell_type": "code",
   "execution_count": null,
   "metadata": {},
   "outputs": [],
   "source": [
    "\n",
    "# #  solo para sacar los datos para meterlos en el formulario\n",
    "# ssi=dfi1.reset_index().to_json(orient='records')\n",
    "# ssi\n",
    "# parsed = json.loads(ssi)\n",
    "# asi=json.dumps(parsed) \n",
    "# # print(asi)\n",
    "# ssv=dfv1.reset_index().to_json(orient='records')\n",
    "# ssv\n",
    "# parsed = json.loads(ssv)\n",
    "# asv=json.dumps(parsed) \n",
    "# # print(asv)\n"
   ]
  },
  {
   "cell_type": "code",
   "execution_count": null,
   "metadata": {},
   "outputs": [],
   "source": []
  },
  {
   "cell_type": "code",
   "execution_count": null,
   "metadata": {},
   "outputs": [],
   "source": []
  },
  {
   "cell_type": "code",
   "execution_count": null,
   "metadata": {},
   "outputs": [],
   "source": []
  },
  {
   "cell_type": "code",
   "execution_count": null,
   "metadata": {},
   "outputs": [],
   "source": []
  },
  {
   "cell_type": "code",
   "execution_count": null,
   "metadata": {},
   "outputs": [],
   "source": []
  },
  {
   "cell_type": "code",
   "execution_count": null,
   "metadata": {},
   "outputs": [],
   "source": []
  },
  {
   "cell_type": "code",
   "execution_count": null,
   "metadata": {
    "code_folding": []
   },
   "outputs": [],
   "source": [
    "# proyecto='ua92-te2-03'\n",
    "proyecto='ua92-te2-03'\n",
    "ciudad ='Valencia'\n",
    "beta=35\n",
    "alfa=0\n",
    "\n",
    "# from numpy import *\n",
    "import pandas as pd\n",
    "import numpy as np\n",
    "# np.warnings.filterwarnings('ignore')\n",
    "%matplotlib inline\n",
    "np.warnings.filterwarnings('ignore')\n",
    "from numpy import ones,vstack\n",
    "from numpy.linalg import lstsq\n",
    "import matplotlib.pyplot as plt\n",
    "from pvlib import solarposition\n",
    "\n",
    "# ///////////////////////////////////////////////\n",
    "# ///////////////////////////////////////////////\n",
    "# ///////////////////////////////////////////////\n",
    "## analema\n",
    "\n",
    "# ?grafico de posiciones\n",
    "\n",
    "tz = 'Europe/Madrid'\n",
    "lat, lon = 40.416644, -3.703792 # madrid\n",
    "start='2019-01-01 00:00:00'\n",
    "end='2020-01-01'\n",
    "# analema\n",
    "analema=pd.date_range(start+' 00:17:00', end, closed='left', freq='H', tz=tz)\n",
    "# solsticios y quinocios\n",
    "dias=pd.date_range(start, start, freq='1min', tz=tz)\n",
    "# for date in pd.to_datetime(['2019-03-21','2019-04-21', '2019-06-21', '2019-10-27','2019-12-21']):\n",
    "for date in pd.to_datetime(['2019-03-21','2019-04-21', '2019-06-21', '2019-10-25','2019-12-21']):\n",
    "    dia = pd.date_range(date, date+pd.Timedelta('24h'), freq='3min', tz=tz)\n",
    "    dias=dias.union(dia)\n",
    "# todo    \n",
    "T=analema.union(dias)\n",
    "dfg = solarposition.get_solarposition(T, lat, lon)\n",
    "dfg = dfg.loc[dfg['apparent_elevation'] > 0, :]\n",
    "dfg = dfg.rename(columns={'apparent_elevation': 'elevacion'})\n",
    "dfg[\"azimut\"]=dfg[\"azimuth\"]-180\n",
    "# dfg\n",
    "# dfg.plot(kind='scatter',x='azimuth',y='apparent_elevation',figsize=(15,10));\n",
    "# calculos de los 8 punos del cubo y paso a polares\n",
    "\n",
    "# ///////////////////////////////////////////////\n",
    "# ///////////////////////////////////////////////\n",
    "# ///////////////////////////////////////////////\n",
    "# ///////////////////////////////////////////////\n",
    "\n",
    "\n",
    "\n",
    "def pointIsOnLine(m, c, x, y): \n",
    "    if (y >= ((m * x) + c)):  \n",
    "        return True;  \n",
    "    return False;  \n",
    "\n",
    "\n",
    "def pp(q):\n",
    "    # def sombra(q):\n",
    "    p=q[:,:3]\n",
    "    v=q[:,3:6]\n",
    "    t1=[0,0,0,0,1,1,1,1]\n",
    "    t2=[0,0,1,1,0,0,1,1]\n",
    "    t3=[0,1,0,1,0,1,0,1]\n",
    "    t=np.array([t1,t2,t3])\n",
    "    # \n",
    "    ones=np.eye(3, dtype=int)\n",
    "    vv=v*ones\n",
    "    tt=np.dot(vv,t)\n",
    "    pp=np.transpose(p)+tt\n",
    "    df = pd.DataFrame(pp).T\n",
    "    df.columns=['s','o','h']\n",
    "    df['azimut']=round(np.arctan(df.o/df.s)*180/np.pi,2)\n",
    "#     sii esta en el tercer cuadrante, al amanecer\n",
    "    if (df.iloc[0]['s'] < 0) & (df.iloc[0]['o'] < 0):\n",
    "        df['azimut']=-180+df['azimut']\n",
    "    if (df.iloc[0]['s'] < 0) & (df.iloc[0]['o'] > 0):\n",
    "        df['azimut']=180+df['azimut']\n",
    "    df['elevacion']=round(np.arctan(df.h/(df.s**2+df.o**2)**(1/2))*180/np.pi,2)\n",
    "    df.set_index('azimut')\n",
    "    df=df.sort_values(by=['elevacion'],ascending=False)\n",
    "\n",
    "    df=df[0:3]\n",
    "    df=df.sort_values(by=['azimut'],ascending=True)\n",
    "\n",
    "    # # ax = df.plot.area()\n",
    "    x1=df.iloc[0]['azimut']\n",
    "    y1=df.iloc[0]['elevacion']\n",
    "    x2=df.iloc[2]['azimut']\n",
    "    y2=df.iloc[2]['elevacion']\n",
    "    x=df.iloc[1]['azimut']\n",
    "    y=df.iloc[1]['elevacion']\n",
    "    # [x1,y1,x2,y2,x,y]\n",
    "    points = [(x1,y1),(x2,y2)]\n",
    "    x_coords, y_coords = zip(*points)\n",
    "    A = np.vstack([x_coords,np.ones(len(x_coords))]).T\n",
    "    m, c = lstsq(A, y_coords)[0]\n",
    "\n",
    "\n",
    "    points = [(x1,y1),(x2,y2)]\n",
    "    x_coords, y_coords = zip(*points)\n",
    "    A = np.vstack([x_coords,np.ones(len(x_coords))]).T\n",
    "    m, c = lstsq(A, y_coords)[0]\n",
    "\n",
    "\n",
    "    # Driver code  \n",
    "    # x = 2; y = 3;  \n",
    "\n",
    "    if not (pointIsOnLine(m, c, x, y)):  \n",
    "        df=df.drop(df.index[1])\n",
    "    return df\n",
    "\n",
    "# ///////////////////////////////////////////////\n",
    "# ///////////////////////////////////////////////\n",
    "# ///////////////////////////////////////////////\n",
    "# figura\n",
    "df=pd.DataFrame()\n",
    "# \n",
    "fig,ax=plt.subplots(figsize=(15,8))\n",
    "\n",
    "\n",
    "# import matplotlib.image as mpimg\n",
    "# image = mpimg.imread('./sombras2.png')\n",
    "# ax.imshow(image,aspect='auto', extent=(-130,130,0,80), alpha=0.5, zorder=-1)\n",
    "\n",
    "f=dfg[[\"azimut\",\"elevacion\"]].copy()\n",
    "x=f[\"azimut\"].tolist()\n",
    "y=f[\"elevacion\"].tolist()\n",
    "ax.scatter(x,y,s=0.01,color='yellow')\n",
    "\n",
    "\n",
    "# q=np.array([[9, -7, 0,7,7,3]])\n",
    "# f=pp(q)\n",
    "# x=f[\"azimut\"].tolist()\n",
    "# y=f[\"elevacion\"].tolist()\n",
    "# ax.fill_between(x,0,y, color='grey',alpha=0.5)\n",
    "\n",
    "\n",
    "df=pd.DataFrame()\n",
    "df=pd.read_csv(\"tablas/sombras_edificios.csv\")\n",
    "df=df[(df.proyecto == proyecto)]\n",
    "df=df.drop(['proyecto'], axis=1)\n",
    "cubos=df.to_numpy()\n",
    "ff=pd.DataFrame()\n",
    "for row in cubos:\n",
    "    row=np.array([row])\n",
    "    q=row\n",
    "    f=pp(q)\n",
    "    ff=ff.append(f)\n",
    "    x=f[\"azimut\"].tolist()\n",
    "    y=f[\"elevacion\"].tolist()\n",
    "    ax.fill_between(x,y, color='grey',alpha=0.5)\n",
    "#     ax.plot(x,y, color='grey',alpha=0.5)\n",
    "\n",
    "# maquillado de los puntos para imprimir\n",
    "# ff = ff.rename(columns={'azimut':\"$\\alpha $\"})\n",
    "ff=ff.drop(['s','o','h'], axis=1)\n",
    "\n",
    "\n",
    "\n",
    "import os\n",
    "# os.remove(\"plt.png\")\n",
    "\n",
    "# fig.savefig('plt.png')\n",
    "# plt.close()"
   ]
  },
  {
   "cell_type": "code",
   "execution_count": null,
   "metadata": {},
   "outputs": [],
   "source": [
    "# ///////////////////////////////////////////////\n",
    "# ///////////////////////////////////////////////\n",
    "# ///////////////////////////////////////////////\n",
    "\n",
    "\n",
    "# calculo de las sombras\n",
    "import pandas as pd\n",
    "import numpy as np\n",
    "# pesos\n",
    "\n",
    "\n",
    "dfi=pd.DataFrame()\n",
    "dfo=pd.DataFrame()\n",
    "\n",
    "\n",
    "#  tasbla de irradiacion\n",
    "s=pd.DataFrame()\n",
    "s=pd.read_csv('tablas/sombras_coeficientes.csv', index_col=0, header=None).T\n",
    "ab=s.loc[(s['a'] == str(alfa))&(s['b'] == str(beta))]\n",
    "dfi  = ab.drop(['a', 'b'], axis=1)\n",
    "\n",
    "d = pd.DataFrame(np.zeros((14, 4)))\n",
    "\n",
    "dfi=dfi.reindex(index=dfi.index[::-1])\n",
    "dfi=dfi.set_index('porc')\n",
    "\n",
    "# tabla de ocultacon\n",
    "dfo=pd.read_csv('tablas/sombras_ocultacion.csv', index_col=0, header=0)\n",
    "dfo=dfo[dfo['proyecto']==proyecto]\n",
    "dfo  = dfo.drop(['proyecto'], axis=1)\n",
    "\n",
    "\n",
    "# marcar las porciones afectadas\n",
    "def highlight(value):\n",
    "    return dfo.applymap(lambda x: 'color: red' if x*10 else '')\n",
    "dfs=dfi.style.apply(highlight, axis=None)\n",
    "\n",
    "# las perdidas parciales\n",
    "p=dfi.values.astype(float)*dfo.values.astype(float)/100\n",
    "# solo para visualizarla tabla\n",
    "dfp=dfi.copy()\n",
    "dfp.loc[::]=np.array(p)\n",
    "# para calcular las perdidas totales como la suma de todas las parciales\n",
    "pp=np.cumsum(np.reshape(p,56))\n",
    "pt=pp[len(pp)-1]"
   ]
  },
  {
   "cell_type": "markdown",
   "metadata": {},
   "source": [
    "## 3.- Calcula las perdidas por sombras del ejercicio cuyo dibujo se expone, sabiendo que la ciudad donde se encuentra el edificio es Madrid y módulos a 35 º con la horizontal."
   ]
  },
  {
   "cell_type": "markdown",
   "metadata": {},
   "source": [
    "![]( data:image/png;base64,iVBORw0KGgoAAAANSUhEUgAAAnMAAALiCAIAAAA96Me/AAAACXBIWXMAAA7EAAAOxAGVKw4bAAAgAElEQVR4nOzdd3xUVd4/8HP7lBQJoYSVZkHRRUWaFBEERCkKuIsVcV8quq6g8iCWxRWxrK6KYMeK4PoIFgQLoKBGFIUVC8uKIq6IiJiEEpIpt57fH98n5zcOQSl3Zu4kn/cfvIbJJHNm5s793NMlzjkDAAAAn6i5LgBAw8Q5lyQJV67gl3oPp7Q76b+SJGW3aJAO33yATEk7x+XRKS+Pitp40Lk67XOp9xjDx5dzqLMCZASd3TzPY3VnQ/pv8CuykiSJQnLOOeeyLNNtWZYDXvgGjI6itPc/9XASHxBiNeeQrACZQqc80zQpUBljqpoH3zjP8yzLikQinud5nqcoiuu6pmnquo5Tdk5QWCYSiT0/AtM0NU3TdZ0eI9IXn1RuBf3yGSBP0TeLkinXZTkQrut6nifO0Zqm5bpEUD/P82KxWCQScRxH13W6E8maW3lwBQ2QpzzPk2V52rRpK1eudOvkulC/Tdf1Qw45ZNasWU2aNLEsS1GUeDx+9tlnV1ZWUrMw5IQkSaqqep5XUFCgKMru3bslSZJlecaMGR07dnQcJ9cFhP8PyQqQKVRhffPNN1etWtWpUyfbtqnbNbCohvrzzz9XV1fPnDmTSss5NwzjggsusG0bNaFcEY0HsizPnj17x44dV199NV2oiRZ7VVWD34vfSCBZATJCjNKUZfnEE09cs2ZNrku0rx555JEJEyaEw2FFUTjniqIoinLOOefkulzwf957771QKHTeeeeJezzPMwyDYa5XYCBZATJCjAfmnFuW5bqubduapgV5dAmVMBaLua5Lo4JpUIzneXnRjt1Q0Qdh2zbn3PO8xx9//IYbbqAjSpIkuvShR2LKTUAgWQGyQa4T5BMflTBtfiRVgOjcjRN39lFvved5qqqqquo4Tmlp6YIFC/7nf/6nqKiIulrTfgWfUc4hWQEyTkrBAjxuM62Q9ZY5sIVvqFKvZjjn3333HWPs22+/5ZyrqmrbtpjKFfCjq1HBSD8AgDxAs6LnzZtXVVVVWFhI/8Vo7WDCpwIAEFyiwkpRWlhYyBirqal58cUXGWPUI456atAgWQEAgkuM9ZUkyTTNjRs3MsYcx/nhhx9YXdxiMHDQIFkBAPKAYRiJROLll1+mNQ5LS0tpYHCuywX1QLICAASdqLbu2rXLsizO+f333797925alSnXpYN0GBsMAJAHbNuWZXnZsmUPPvhgIpGgNZjQwxpMqLMCAAQdDQPmnPfu3btt27ZlZWWnnnpqOBw2TTPXRYN6IFkBAIKOVl9SVZX2dbBtm/5FP2swIVkBAIIrdSM/WsiQOlYVRdF1XdO01J3qISDQzwoAkFn1xh5tf5t6T9rSkqxuJSyxzr4YxySWZBJ/AR2ugYJkBQDIrLTYo+0N6m3IdV1X3J8anCwlUPe8B3XWoEGyAgBkVlrsUXZ+8MEHiUSCfqppmuM47du3P+KIIzzPo/Uf6GG0Ij+CM78gWQEAMk7sBOd53ooVKx588MHXXnst7THFxcV/+tOf7rnnHtFQjD7UPIURTAAAGSeabRVFGTdu3GuvvTZ48OC33377X//614cffrhy5cpLLrmkurp6xowZ7777Lq2yhCUg8hfqrAAA2eC6rqqqixYt2r59++jRo+fNmyd+5Hlez549+/Xrd8kll7zwwgsDBw40TdMwDHSj5inUWQEAskfTtGQy2apVq9Q7aTO41q1bM8bC4bAkSZqmiY1XEat5B3VWAIBsUBTFcZzBgweXlZU9+uijiURi+PDhiURC0zRN09asWfPggw9alnX++efTEhCO46iqiuk0+QjJCgCQJTTud9q0adOmTZs1a9asWbNSf9q8efN//OMfPXr0cByHc069rQytwXkIyQoAkCWcc1mWx44dO2bMmG+//fbTTz998803Hcfp1q3b8OHDDz30UMMwxJRW27Z1XUem5iMkKwBAZolKp2EYlmUxxsrLyz/++OOlS5dGo1HG2Kuvvrpp06bTTz+9b9++uq47jiPLMnW+YuJNPkKyAgBkFq2mRPNZdV2/++67b7jhhrTHlJeXz5w58+KLL37yySdpaQhFUcS6hjkpNhwwJCsAQMZRj6nrurqu33PPPc2bNx8/fvzQoUNt2xYtwOPHj589e/Z555132mmnWZbleR62sslTSFYAgIyjCms4HJ43b96uXbueeuqpsWPH2rataRqrW6Fp+fLlJSUlTz311KBBgyzLwnzW/IX5rAAAGSfadUtKSjjnH330kWmaokpKCTp9+vTa2tpTTjmF5rOmLs2fs3LDAUGdFQAg4zjnqqrG4/FBgwYNHz581qxZ7733XigU+stf/lJcXPzoo49WVVWtW7euQ4cOl1xyied5YsoNVuTPR0hWAICMo3WAVVW1bfv555+/4YYbHnzwQcbYuHHjxGOGDx8+c+ZMSZJoHUSxKH/OCg0HCskKAJA9sizruv7AAw9ce+21NTU1kUjEcRzbtjnnxx13nHgYtR4zxrAufz5CsgIAZINIStd1Xddt37592gPWrVv3xRdfJJPJ7t27d+rUybZtWt0QI5jyDpIVACCzRIsuramkaRrn3DRN8YBEIlFQUPDiiy9OmzatZcuW27Zt++mnn5o1a4ZO1jyFscEAAJnFUzDGXNel1fZpGWHG2CGHHKKqaq9evcaMGfP555+PHz9e/GIuyw0HCnVWAIDMSh2FRIsr0YwaXdfpxgsvvNC+ffvBgwcPHjyYMfbAAw9wzi3L0nWdYT5rHkKdFQAgs0SF1fM8SZI2bNgwZ86cTp06UQ21e/fu55133kknnXTYYYe98cYbnudVV1c7jkOBiljNR6izAgBkiWmahmGMGjXqP//5D2Ns3bp1r7zyimmaF1xwQTgcfvLJJ//whz9s3LixZcuWYnNWhGs+Qp0VACDjOOe0aPCCBQvWr19/4okn/utf/xoxYoRpmpdffvlzzz33xBNPPPjgg8lkctasWYqiUP8rBSpiNe8gWQEAMovqnbTCfkVFhed5U6ZM6dq163PPPafr+vbt213X9TyvX79+uq7/8MMPtI1rPB7PdcHhAKE1GAAgs2gEE+0K16lTJ1VVp0+f3qxZs549ez7xxBM7d+5UFGXDhg1///vfLcvq168fNf8WFBSwus3SUW3NL0hWAICMoyHB8Xi8T58+o0ePfv75508++eRNmzZddNFFjLFEItG3b9+ff/65S5cuo0ePpnZjVhfJiNW8g2QFAMg4ag3WNM227WeeeaZt27bbt2+PRqPJZNLzPM75JZdcUllZOXXq1FAoJKJULB2McM0vSFYAgCyhmqvrunfeeSdjzHEcilVN0+644w7GGK0dIcsyQ4U1nyFZAQCygVYApii1LEsscxgKhRzHSSQSsizLskx3YoubvIZkBQDILBGTmqal/Yiqp5qmiR+JCawI1/yFZAUAyKz9atHdM1bFrNY9HcDfhyxAsgIAZNb+1j7TYlWWZVoWcU+UqeIBPpcbDhSSFQAg0KgKSzvkUOsx59y2bZGmaDoOGiQrAEBwUcVUlmVJkpLJZL9+/b766ivXdT/44IPy8nLaNofiFoIDnwcAQKCJEcW6rq9du9Y0zUQiMXDgwObNm1uWhdpqACFZAQDyAO2TM3DgQFqsv6SkBN2rgYVkBQDID7quDxs2zHVdxphYYiLXhYJ6IFkBAPIALej/008/McaaNWt26aWX0opOmHITQBjBBJBZafMOg3weTN0NNG0OZY5L1uhxzk3TDIVCffr0CYfD8Xg8HA7TxBtW1xHL6psLCzmBZAXICJFG4vQnTnmBPfGlFk+cowNe5gZPLMofDocZYwMGDIhEIslkkjFm27ZYIlFMb0W4BgGSFSAjxKmNc+55nm3bjuOwYE89tG2bMUbltCzLcRzbtlVVDXKZDx5FV1qHZaBeL5VQURTTNB3H2b59+4QJE0pLS03TVFXVsixacJh2Vm/YH1a+QLICZIqothqGkbowbGDRnqBFRUWMsebNm0uSFPwy+8K2bVmW6TIigLFERaJtcMLhcM+ePT3PU1WVMaaqKi0ZQYtIiHUkAvgqGhUkK0Cm0NktFAp9//33d955ZzweD3hQUaXnww8/ZIxNmTIlFApR710DRp/RH//4x5YtWzqOoyhK0Fq/xfWZ67qcc8dxTj755IqKit27dycSCUVRDMOIRqOO4wSnzIANdQEygnPuuq6qqoMGDVq2bFmui7MfJEmKRqO1tbW5Lkj2lJSUFBQUaJpmmmYAK3xUJKpPK4qybds2SZKaNm3KGLNte8KECZMnT6brNqrIsiBdGTROqLMCZApdtsZisd///vcff/yxbduKorBgn/WoV9hxHKpeB60C5y96mQMGDKitrX333Xcty6LFAgMVrqIwnPNkMhmJRKZNm/bzzz8/9NBDpmnquh4Oh2l5JqxxGBxIVoCMECdEWiUnGo0G6nwNguM4oVCoWbNmuS7IbxDb3TDG2rRp06xZM8uyqGuccy5qqxAE+DAAMkKEKM2CoOHBYoJEbssGxHEcGvksPiBqcQ3mZ0RtHolE4vnnnz/mmGN2794tSRKNWhLbyQkBLH+jgmQFyDhxBpRlOZhn7cZJxJK4LVIqOJ+RiExRK5VlecWKFclksmnTpsGfJN04oV0eACA/0MQbxlhBQUE4HKYLNfoRxqIGCpIVACDoOOc0+vfxxx+vrKxMJpNvvfWWJEmxWKzBz4zKR0hWAIA8QKO1aYUsx3E+/vhj2hE91+WCeuBTAQAIOuqq9zxP0zTqDG7WrJnov8916SAdPhIAgKCjDeNqa2v/+te/0s6szz33XCwWo8msuS4dpMPYYACAoKOpQbIs33333S+99JJpmmeddZZpmoZhMAwMDh4kKwBA9uxLFXPPmT+yLFMP6zXXXFNVVbVr164pU6bQ8KWAL0bdOCFZAQCyZ1/ql/VOqKWVF23bTiQSyWTStm2xmDAahIMGyQoAkD0iBT3Pk2XZsixaAoLae2mznT3rrPRbsiyLGqqmaTTfhlY9zPbLgF+FEUwAADnguq5t27QnEu2CwDmne1LroKmrLNH9qQ9I+xEEBOqsAACZlRZ7tEyx67qSJIVCodS8FGvus7pMFfXX1IgVu9+k/QgCAskKAJBZae261D+qqqrjOP/9738jkYhpmm3btmWM0YwaMUU1NZL3zE4RsaizBg2SFQAgs0TsWZYly7KiKEuXLl26dOmaNWs++OAD6jG98MILBwwYMGLEiFAoRMOANU2TJIm6YxGc+QXJCgCQJZ7n6bo+duzYuXPnMsZKSkpatWpl27ZhGLNnz549e3bXrl3Ly8t1Xaf+13p3iIPgwwgmAIDMEr2hsiwnEoklS5Ycd9xxb7311ubNm9evX79p06avv/76888/v/TSSz/55JO5c+dSQzEG/eYvJCsAQGZRrDqOo+v6s88+W1VVdfvttw8aNMhxHMMwaO3f448//oknngiFQitWrBAVVvHruS0/7C8kKwBANiiKwjnv16+frut33HHHunXriouLdV03DMMwjC1btowaNSqZTLZp04YxlroEBFqD8w76WQEAskFRlFgs1rFjx0mTJt1xxx2dOnUaNWpUUVGRZVm6rr/88ss1NTXDhw+fPHlyLBYLhUKu62KJpTyFZAUAyDga5WsYhm3bt99+e8eOHWfMmPHRRx85jkN12bKystNPP/3ZZ5+locKu69LYYNFHm+tXAPsByQoAkHEUja7rKoqSTCYvuOCCU089lRaLoF5Vznm7du1oMSbqYTVNMxQKMbQG5yH0swIAZANtVE4hOnny5Pbt27du3frQQw9t3bp1u3bt2rdvf9FFF1VUVOi6TgODsYlN/kKdFQAgS2hJ/XPPPXfevHmHHnqoruuXXXZZ06ZNP/nkk7fffnvu3Llr1qxZtGhR69atUxcsRGtw3mk4ybqPRx7GrwNATniepyhKeXn5yy+/fOqpp77yyiuhUIi2Lr/sssts277zzjunTp16zz33PPbYY4lEgtqKEav5qOG0Bkt1GGPU3iLVJ9fFBIBGynVdxtgXX3zhOM5JJ51UXFwsZqzatq1p2tlnnx0KhcSoJdu2c1peOHANsM5Kq10zxmhXJgpUzLkGgNxSVdWyrDPOOONvf/vbCy+80KpVqwEDBtAwJUVRvvjii7vuuiuZTI4cOZLOWtFolHazwbrBeaehJaskSRUVFXfcccf48eOPOOKIeDxOOwmLZAUAyAlJklzXPfLIIydOnHjHHXdcddVVez5m9OjRAwcOdF2Xlg4Wu8VlvbBwUBpOstJRq6rq0qVLH3jggSVLlsybN++EE05gjMViMc45HaniwdjREACyiWqfyWTyb3/72wUXXPDwww8vXryYMaYoim3b3bt3Hzp06BlnnEGNxlQZEBUGhGt+aTjJyjlXFMV13bPPPnvTpk133XVX586d77rrrssvv7ywsDCRSBiGkbalcG4LDACNiiRJiqJ4npdMJg877LDp06ffdttt4XD4V1rUqDU4m4UEXzScNlIxiE7TtJtvvnn16tVdu3a94YYbevbsWVFRUVBQYJqmbdue59EOEjheASDL6OSjqmoikUgkErQVazKZtCzLdd1FixadeeaZI0eOnDFjRiKRoF1aMfQyHzWcZE1Fl4SrVq2aOnXqV1991aNHj4cfftgwDNd1LcvCZSAA5IRYqpCqqmL0bzKZ5Jz/9NNPa9euVRRl0qRJ1dXVjDHP8xj6WfNQg0pWzjktYC3WOvnb3/42b948z/OuuuqqO++807btUChERzPfu1y/DgBoaKjeqeu667qO41D/lKZplmWFQqGioiJVVS+//PJNmza9+OKLX3zxRbNmzRjmMuSthpOsYllO27YVRVEUhTFWU1MzevTot99+u2fPnn/96187d+68Zs0a2kRCdLVizisAZBqdoGzbVlU1HA67rrtmzRrqqJo3b975559/wQUX3HvvvYyxZDJ57LHH2rZt2zZOR3mq4YxgElXVUCgkJoEVFRWZptmxY8eVK1dOnTr17rvv7tq16/3333/NNddYlmXbNm09QQ+WZVlkba5fDQA0KLTXDZ1q5s2bd+edd65du7Zt27Y9evSYP38+Peb555+3bZt2kcOiwXmt4dRZxUQayldFUWh6ta7rnuclEompU6euXbv2d7/73bXXXjtq1KgtW7aEQqHa2lr6Ldq2KdcvAgAaJqqzKopSUVFx5ZVXrlu3rnv37tXV1fPnz2/VqtWcOXMWLFhwxBFH3HTTTZ999lkkEvE8j1a8YbjWz0MNJ1nF0IA9e0xpsLtpmocffviKFSsmTZq0YMGCwYMHr169urCwkK4Nqc4q/hT9LvpcAcAvNOF+0aJFO3bsuP/++1etWvX555+HQqHTTz99zJgxI0aMKC8vj0ajs2bNolMZNacxnIjyUMNJ1r11mtJBqaoq59w0zfbt299zzz0333zztm3bevToceedd+7YsYOW6EzdWQLNwgDgLzqfNGvWLBwO7969mzHWtm3bzp07t2jRgibY/PDDD2JNG0mS6E7IRw0nWfdG5KuqqoZh0Ki8adOmffbZZzSsqV+/flu3bg2HwzU1NTTb1XVdahnGpSIA+IVazkaMGFFSUnLzzTcPGTJk69atK1euvPXWWx3Hufrqq8eOHRuPx0ePHk1dWtFoFKvF5alGkay0PBNNyKGBefF4vH379itXrpwyZcq6det69+79yCOPFBcXK4qSSCSo/ooZOADgI86553m2bU+YMKFFixaLFy+mcR6WZTmO8+CDD27YsGHcuHF9+vRxXVfTNDFwBCeivNNwxgbvjeh/Ff91HEdRlFgsZhjGbbfd1rNnz3Hjxv3lL3+JxWKXXnppkyZNkskkDR9IC1dcOQLAwZBl2fO8yZMnjx49+tNPP23ZsiVt2qpp2sKFC9u3b//73/+eTlD0eKwbnKcaRZ2V/XKFMJrtGolEGGOmaQ4ZMuSdd97p27fv5MmTu3btumrVKlpyjNYhwzxXAPAFtfFKkpRMJlu3bj1q1CjqUqUFz4cPH/773//eNE0Rqzjt5K+Gn6xpxLQcWZZ1Xac1UDp06FBeXn7bbbdVVlaedNJJ9913XygUorXHEokE1mYCgINHkxRowIfneZZlaZpGF/qapjmOQ+tIMDSP5b/GlaxiOIBYF4LylYYsTZky5dNPP23duvWkSZPOPPPMLVu20FxYy7LQGgMAB0x0l4ozj6Zpuq6L3aNpCAgFLUYtNQCNK1nrnfMqDnfbttu0aVNeXj5x4sTXXnutX79+H3/8cTQapQvMen+RYfwwAPwWOl3Uew6pV9qlvDjVcM5d1xVTGHAWCqzGlay/vlCwLMuO47Rv3/6+++6bNm1aRUVFz549p02bVlVVRblb72RZXFoCwK9LnSK/L1hKg7AIWqludTnDMAzDoNotzkLB1LiS9VfQMarruuM4pmnSDq99+vS55ZZb+vbtu3XrVl3XacdEx3FotwpcLQJAponstCzLNM3PPvvs+++/37Jly5o1a2jxc/RVBRCSlbG6Y1eWZVVV6ZKQdnhdsWLFlClT1q9f361bt/vvvz8cDkuSZNs2tcNghRQAyA4aQmxZVo8ePV544YXXX3+9a9euO3fuzHW5oH5IVsbq63+l7V2TyeTUqVOXLFnied7EiRPvuuuunTt3hsPhWCzmOA6t+M9+udVrrl8KADRMnueFw+FOnTqpqqqq6pgxY8rKymj/nFwXDdIhWRmrb86r53nUpZFIJAYPHvzuu+/269fvxhtvPOmkkz766KMmTZrQI2kR/z1/HQDAX47jRCKRMWPGUJ/UUUcdpWma67p0iY+TT6AgWdOJDlcaEx+JRGKx2OGHH/7uu+9OnTq1srKyV69e9957bygUUhSltraWlitjKTvkAAD4iybqcM6rq6vpnqqqKjFaGF2tQYNkTScqo2KcXiQSkSQpHo/fcsstq1evbt++/XXXXUeraRcUFFiWxTCOCQAyjE41xx57LC1+fv7551O/Va7LBfUI1qeyZ7dlblGpaB2JcDicTCaPOuqo999//+qrr168eHG/fv0+/PDDcDhMCznt+2S1zJWWI+CDCh9NYPGURcVZgD8pwzBc1x06dGiTJk1c1z388MPT5g3iPBAcwUpWMb48IETBZFk2TZNmtZaVlc2YMePOO++sqKjo06fP7bffXllZqapqvRNes1xaCX0tgZF6vuYpc/9x1gsa8dFIdeefAH5GUt38herq6pqaGlp4laVMkGUpKz3hPJBzwdrrhg5osbwI3ZM6Sij75ZHqaqJUDM45Le954403nn322ZdeeunNN988f/78t99+u0WLFvF4XNM02rwi08e3OBfQ2yVJEm3Ow5CvgZE6L8u2bTGe3PO8HJYKBPqAaGMrx3GSyaSu6/RND85nJL7Utm17nldUVNSqVatu3bqVlJTQCYdaienQ0jSN1Z24clzuxi1YySrQXqq5LsVv6NChw/vvv3/vvfded911PXv2HD9+/LXXXpvrQkGA0OrqoVDINE1N0+isB8FBH5CqqoWFhfRvrkv0a6i0jLGLL754+/bt4XBY/IguEcQDIOcC90nQFX1lZeVVV131/fff0yKZQbsEo/K4rhuNRuna9rvvvps4ceKcOXNUVU0mk1kbB28YRiQSGT58eNu2bUVDeqafFPYFHcmqqv7000+JROKVV16xLAs7mQSK67qqqu7cubOysnLBggWUT0HrWBEtZ7Q7SDQa/eCDD+Lx+KuvvkpXbIcffvixxx5LkxRCoVCuywuMMRasHgVqa1VVdf78+eeee263bt3EyLfgHOgspauMVkUpLi42DIN6Pmi4UxaSlf5+LBb797//feSRRzZt2hRrQgWQJElff/214zjHHXccLaQezG68xmz9+vWyLHfs2FH0QAX2M6JupkgkIstyPB6nS7fp06d37tyZMUZT8OmRgTphNkLBqrOKKhfNJX3ppZfatGmT60IF2oYNG44++ujZs2f36tUr12WB+vXt27e2tvajjz7KdUGgfieddBLnfNWqVbkuyIFzHCc1U4N5WdCoBCtZ00bl7Nq1q1WrVlQFDOYlWFqpsnlAu66rKEp1dTXnfNeuXbQsCw1iCuZ71dhwzqmx0TRNGr5k2zZN9scHFBD0lbFtW4xMpBEewf+MUocx04Ln4kfBL3xjEKxkTTsgxBET2GTNLVVVqbVcvFF03Yr3KgjoBEefkRi5jQ8oaMRgSVVVqXGV7g/UZ5TaQL1nlTTtnry4MmjwgpWsQuoggtQJWyCkvUXiTjQEBRk+oCAT36agfUZ7fs3rfcDe/gvZF6yVIgAAAPIdkhUAAMBPSFYAAAA/IVkBAAD8hGQFAADwE5IVAADAT0hWAAAAPyFZAQAA/IRkBQAA8BOSFQAAwE9IVgAAAD8hWQEAAPyEZAUAAPATkhUAAMBPSFYAAAA/IVkBAAD8hGQFAADwE5IVAADAT0hWAAAAPyFZAQAA/IRkBQAA8BOSFQAAwE9IVgAAAD8hWQEAAPyEZAUAAPATkhUAAMBPSFYAAAA/IVkBAAD8hGQFAADwE5IVAADAT0hWAAAAPyFZAQAA/IRkBQAA8BOSFQAAwE9IVgAAAD8hWQEAAPyEZAUAAPATkhUAAMBPSFYAAAA/IVkBAAD8hGQFAADwE5IVAADAT0hWAAAAPyFZAQAA/IRkBQAA8BOSFQAAwE9IVgAAAD8hWQEAAPyEZAUAAPCTmvZ/zrkkSZxz+i/dliTpgJ8g7Q/WK/UBdOPXH59pv1nmen968O/VAUh9u3idvZUwtZwsRwVOtS/HRpr8KnPaUZ19qaWlN21fSpLbN/nX3+G0o3fPGwd5sjqwv7AvZU59//0qc71f9px/R4ClJuuen7Q4TR/keSH1D6Z+3nu7n9WdBcTDsn9i2rNsqYWs94SV5WuC1GcXBUsr4d5+MfVLnvOLGPbLYrNfZsCenwILXpnrPZd5nrdn4bN/MKele71vtbgnIG9y2pV96gSP18gAACAASURBVO1f+WIeQLFTL0npKcSzHFiZ0y5fUkuYueM57QhErAbB/0/W1E/F8zy2Pxe5eyM+b9d1U49aus0YoyeSZTn1CPM8j+6nG1n+ntdbZvbLL3bqneK9yv4ZU7xRruuKd4xzrigK++WXNvWbRmXmnIu3Pfv2VpESR4W4YhA/Sv04sv9up5V5zyoC++V3R5RZlmWWckizXCSWeNP2fN/S/purg3lP4kigN5DVHRVpnwI9IPU931/iJXt1Dvh7QX9EnNxYSiVY/Cu+egdT5j2lhTfCNefS66yMMcdxOOeapqVG4AGjX6eDVZIk27ZZ3QFnGAY9nSRJ9KS6rtORrWkaY8wwDFmWxVcra8RpnW7Yti2+CYqicM7pHlVVLcvSdT2t4pgd9Laoqkq3ZVmm87jjOLZtK4riOI6qqo7jKIpCsSSuGOidz36ZU6VdX1uWRWWjT99xHPEwz/N0XWd1Lzkn73Zamel4tm2byqwoiqqqnufZtq2qqrhHVVX6aCRJkmWZXgVd92Sf67qpgSEKLIrHOafDieX0wBAohOiMIQ6MtJYA8WYeWIHpiKI/Qn8/9Z4DKDB9AUUNwTCM1OaKtND198zmb1TDQUrvZ2WMua4bj8dra2s1TdM07WCugMRVPH0fLMtq2bIlfUksy/rxxx9DoVBBQQElgeu6W7dutSyrqKho165dqqpWV1fv3LnTcRz68h/0i92PMtOTUiw1adKEvi2c8+3bt+u6Tt9Aemd+/vln13XpNMqyeEqiJ62pqVFVtba2dufOnbW1tYyxSCQSjUYZY3SKl2U5kUiEQiGqyzqOo2laVVUVvVK6UMjJaZSe1zRN13V1XS8pKaETvSRJVVVV4XCYrqvoZPT999/TcXKQB+TBl5kxlkwmOecFBQWFhYWWZdGlTHV1dSgUKi4uZozJsmyaZkVFhSRJ4XBYVVVFUXbt2mWapqqq2Sw5FVhRFMuymjRpommaZVl0mUglj0QirutSmR3HqaioSA2VHL7JlmV5nldUVBSJROh6JRaLVVZWlpSUhMNhOp/U1NQkEgn6YiqKknrhtY/o6yBJkqqqdKo5gG+EuF5JJpOMsaZNm2qaRhcE1dXVtbW1zZo1o6qC53k7d+5kjNFPxcFwwGdXltLOV1RUJK4MIPd4HbqkTSQSnucNHTo0E881YsQIznltbW1NTQ3n/Pjjj+/SpQs9aSwW8zyvT58+mXjeg3HPPfd4nkdf4MrKSsbY9OnTPc+rra2lS4FcFzBd586dPc9LJpM1NTWe591yyy2lpaWbNm2qra1NJpOO49x66625LmO6W265xfO8eDxuWVYymdR1/fLLL6d7PM+rrq5u3rx5rsuY7o033nBdNxaLcc7XrVtnGMbSpUs55zt27OCcl5eX57qA6U444YSKigrTNE3T9Dxv1KhRRx999I4dO0zTjMVilmWNGjUq12VM98ILL9Cb7Lruxo0bGWNPP/00fR89z/vPf/6T6wKmkyRp/fr1ruvSKe5///d/Q6HQ5s2b6Svped7zzz+foaeurKy0bdtxHNGJBjn0i35Wzrmqqpzzyy677OSTTxZtRAd86cp/2SX2hz/8gXMuyzJVnp566qkNGzZ4nicaph566KElS5YYhkFVRlHK7F/mM8Y8zwuHw3/60594Xb+IpmkPP/zwhRdeyBijNyoajd5///2madJ7lbVCiqKKa17Rk9e6dWv6KbUPDx8+vKysrLS0lKqwuq4PGTJE13Vqpczye1tv4TnnY8eO5XXdw5qmvfbaa3SCoMaDgoKC+fPnr1q1ShQ4V8XmdfX+Jk2a9O3blw5dx3E6dOiwePHibt26eZ4XCoUcxznssMP+8Y9/iLZiVtcvfgD1qoMvM71j7dq1Kyoq4nUVnUsuuWTHjh3RaFT0DowfP75bt26iiTWHxwZjzLbtpk2bjhw5UnRn/O53v3v++eePPvpoSZKor+qII4545ZVXNmzYQBVNtv9vbOoJik41oi1q3/8U/Tq1wx199NEdOnQwTdMwDNM0hw0b9vrrr5eVlXHOqS9g5MiRs2bN2rVrl/j7B/Mmi/JrmhYKhQ7yr4GPfjFUIQunLb5HH7u4kTpaIVD4L8fXsPp6TQJlz/d2zx8FDf/lmCBW34jKQOF1PR2pFyi5Df59sWcJg1/mtDdZCHKZU4/bX/k++v6kAf8oG49fTCQVn4rohPeX6AsRZyW66hdHoed51OsTHKkdY5xzGhaUdk/uSlcP6jRKfUvz601mjFHxUnu8xODngBBvsig2dWmLb1AA32QxlorXDWTjdUOWxD1Be5Op9px6XhJtLXR/hs5UByy1zKyuoSK1Sp25MwZ9iRCuAbHXOmt2jlfplyPF97w/+IJW1KCVp3ESJ9ZcF+RABPwQSsuPoBU1tUhpjS71nusy8YyI1ZwL3HEJAACQ14LYrwkAAJC/kKwAAAB+QrICAAD4CckKAADgJyQrAACAn5CsAAAAfkKyAgAA+AnJCgAA4CckKwAAgJ+QrAAAAH5CsgIAAPgJyQoAAOAnJCsAAICfkKwAAAB+QrICAAD4CckKAADgJyQrAACAn5CsAAAAfkKyAgAA+AnJCgAA4CckKwAAgJ+QrAAAAH5CsgIAAPgJyQoAAOAnJCsAAICfkKwAAAB+QrICAAD4CckKAADgJyQrAACAn5CsAAAAfkKyAgAA+AnJCgAA4CckKwAAgJ+QrAAAAH5CsgIAAPgJyQoAAOAnJCsAAICfkKwAAAB+QrICAAD4CckKAADgJyQrAACAn5CsAAAAfkKyAgAA+AnJCgAA4CckKwAAgJ+QrAAAAH5CsgIAAPgJyQoAAOAnJCsAAICfkKwAAAB+QrICAAD4CckKAADgJyQrAACAn5CsAAAAfkKyAgAA+AnJCgAA4CckKwAAgJ+QrAAAAH5CsgIAAPgJyQoAAOAnJCsAAICfkKwAAAB+QrICAAD4CckKAADgJyQrAACAn5CsAAAAfkKyAgAA+AnJCgAA4CckKwAAgJ+QrAAAAH5CsgIAAPgJyQoAAOAnJCsAAICfkKwAAAB+QrICAAD4CckKAADgJyQrAACAn5CsAAAAfkKyAgAA+AnJCgAA4CckKwAAgJ+QrAAAAH5CsgIAAPgJyQoAAOAnJCsAAICfkKwAAAB+QrICAAD4CckKAADgJyQrAACAn5CsAAAAfkKyAgAA+AnJCgAA4CckKwAAgJ+QrAAAAH5CsgIAAPgJyQoAAOAnJCsAAICfkKwAAAB+QrICAAD4CckKAADgJyQrAACAn5CsAAAAfkKyAgAA+AnJCgAA4CckKwAAgJ+QrAAAAH5CsgIAAPgJyQoAAOAnJCsAAICfkKwAAAB+QrICAAD4CckKAADgJyQrAACAn9RcFwAAGGOMcy5JEuf81x+2L4/Z229JknSgpQOA/XAg31IAyIR9CT8EJEDwoc4KEAiizup5nuu6iqLQDUmSPM8LhUL0MHoMPUyWZdM0FUWhh+m67rquLMuO4ziOQ4/UNE1VVQpjRDJAdqDOChAI9E3knFNM2rYdDofFTx3HUVXV8zyRvnRb0zTx65ZlUXbqui5+0XVdx3EMw6Akzu5rAmikkKwAgSC+ia7rcs5VVV2yZMlzzz3nuu5xxx133XXXybIsqp6WZcmybNv27bff/t133+m6Pm7cuC5dusiyrKrq5s2b77vvvsrKymg0Onny5MMPP5wyNbXOivorQOYgWQECgb6JnudZluU4zlVXXTVnzpxmzZrV1NQkk8mpU6fecssttm1rmkaNvclk8uKLL164cGFhYWFNTQ1jbNmyZQMGDPjkk0/69+9fW1vbqlWrrVu3tmnT5t///ndBQYEkSRjHBJAdaB0CCBDOeTgcfuutt+bMmdOxY8dNmzZt27btmGOOeeyxxzZt2qQoim3bpmmGQqH33ntv4cKFZ5111k8//TRjxoxQKHTfffdZlnXbbbfV1ta+9tprP/744/jx4zdv3vz0009LkhSPx13XpafA9TRARiFZAQLEdV3TNHv16tW3b98bb7wxEokUFxerqrpt27atW7fSkCXqhX3llVckSfr73/8ejUavvvrq9u3bL168+Ntvv/3mm2+Ki4s7d+7sed71118fCoU+/fRTUWGlcAWAjMLYYIAA0XXdtu2ysrLy8nLG2LfffnvdddetXbv2vPPOO/rooy3L0jRNURRZllevXs05t22bBi41bdqUMRYOhxOJxKBBg8rKyhKJRFlZWatWrcrLy7ds2VJWVkaNybl+iQANH+qsAAHCOZdlORaL7d69OxaLXXTRRQsWLGCMtW3btqSkhH5KU2ui0ShjTJZlRVE0TZs0aRL9BZp1I0mSLMuWZYVCoc2bNycSCUVRqOaay5cH0DggWQECgfo+Xde1LCscDhcVFYXD4VmzZpWXl3fv3v2uu+666aabDMNIJpOsbnIOY8w0TYrSuXPniqmuhmFIkkQPsCyL/ixjjCbq5PJFAjQOaA0GCATKPFr2oba2dvHixS1atOjXrx9j7B//+Mepp566Zs0azjmN8qUprYyxSCTiOI6iKJ9//jnFaigUqqqqsm2bbsdisZNPPrm0tNSyLFp9QlEUjGACyCjUWQECgdKOxv2+++6755577m233UY/+uGHHzzPO+ywwxhja9eu3bBhA2Ns1KhRjLE33nhD0zTbth3H6dKlS2lpaW1t7fLlyz/99NPCwsKFCxdWVVW1adOmtLSUFqBwHAexCpBpSFaAQKA6q2EYpml26dKlZcuW77zzTq9evc4666yLL75YUZRrrrmGMdavX78rr7xSkqRTTjmFMTZ16tRhw4Z17dr1+++/P+WUU4qKiv785z8zxoYOHXrWWWeNGDFCVdULL7yQel5d11VVNFMBZJwyderUXJcBAH6hSZMmJ554YkVFxebNm7dt23booYc++uijvXv3ZowtW7YsEomce+657dq1Kyoq2rhx486dOx3HOe2006ZPn27b9qmnnhqNRr/++uvKyspDDz306aefHjx4MGUqDSqmp0CHK0DmYA0mgECgdX1d1/U8j1bSTw0/GoK0Y8eOkSNHhsPht99+OxaLRSKR1MeYpqmqquM4uq6n3k+TbbD6EkDWoGkIIBBoXBLVKR3HsW2bIlZsZaOqajKZlGX5iiuucF2XdrYRU1QpOF3X1TSNBhhrmkYL91OsspSliRnqrACZhDorQCCIfWySyaRhGCIpaUc5Wi5YrPNgWRaNBKb7KYBpPxyq3dKKE2ICK3WvIk0BsgPJChAIYn9WVre0ryzL9F+RiGKyDf1I3E8tybIsUzWX7qc/QnNssD8rQDYhWQGC4je7Qn/9AehJBQgIJCtApogWXVpr8De/a6LOmiH7/vepCVrsOofMBtgvSFaAjAhg/TK1oRhJCZA5WCkCICPEyr0TJ0784IMPGGOWZdGIXxpzZFmWaZqmadJKhJm+xqU0Fc+eTCbp2WtqaqhUtPMr59w0zYsuuqiyspIxRt26uP4G2C9IVoCMEKONli5d+sMPP9BEVcdxaAdyz/N0XTcMwzCMrO3sRgHpOI7ruqFQiJ69sLDQ87xYLEbrNFHeL1q0KB6Pi19BsgLsF8xnBcgUanEtKioqKChQFEVRFPGjeDy+evVqmlRz3HHHNWnSJGt1VlVVOeeffPJJMpl0Xfewww5r3bq1YRjikaqqFhcXi9Wa0HQMsL+QrAAZIdJIUZQff/zxww8/5Jxv3br1mWeeCYVClZWVH374IT3g/fffP/nkkzMdYGJiK216M3To0IqKCsZYq1atjj/+eFmWu3TpMmjQoEQi0bRpU0pf9MsCHBiMYALICM45re1w6qmnapq2fPly6nYVNE0zDMOyrAsvvLBNmzY0JzWj5WF1w4Nt237iiSd2796taVptbW3aI08//fT169eXl5e3bdvWtm2sMgGwv5CsABlBm5Orqtq7d+/rr7++Y8eOGzdu1HV9zpw53333XTQaXb58uW3bjLFly5b179+fqpKZLpL4vrds2XLXrl2MsT59+tBCThMnTgyFQpFI5Pjjjz/++OPLy8tbt24ttsdBsgLsO7QGA2RE6gJJyWTyyCOPPPLIIxljAwYMoPvXrFmzc+dOz/M6d+7MGEtbgj9DRaKlhmVZXrBgAY1JHjhwYFpduaamhtYcZoxlOuwBGiQkK0BGpLYG0SY28XhcVVVaMoJz3qVLF/opLSXBMlwvFK3BtA5iv3796P6amhoaXSWGOFFtWyzor+s6WrYA9guSFSDjJElSFEXXdZpgQwlKs19kWabm1ox2sopiSJJElWPLsihlCwsLKTipkkodsVQ2sQwTRjAB7BckK0BGiCii2auMMVmWxeYzjDFVVSlTU9fiz2h5xC51jDFd11ldzysVSVRbxSOlOhktGEDDg2QFyCwRTntbaCk7C/P+Sn6LO8W6EKm77mS0VAANEpIVIEt+pQqYhXrhPnblihJi4zmAA4bVDQEAAPyEZAUAAPATkhUAAMBPSFYAAAA/IVkBAAD8hGQFAADwE5IVAADAT0hWAAAAPyFZAQAA/IRkBQAA8BOSFQAAwE9IVgAAAD8hWQEAAPyEZAUAAPATkhUAAMBPSFYAAAA/IVkBAAD8hGQFAADwE5IVAADAT0hWAAAAPyFZAQAA/IRkBQAA8BOSFQAAwE9IVgAAAD8hWQEAAPyEZAXICM552o18kXcFBggaJCtARkiSRBElSRLdwznPi9CiAlNRU/8FgH2EZAXICM65iCgRsSJug4wKTIWnAouLAwDYF0hWgMySZTm1Fhj8lOKcq6pK+ep5XvALDBA0SFaAzDIMg1LKtm0W+JZVqqHquu55HmPMtu18acQGCA4kK0CmUCBVVlbati1JkqIouS7Rb6BY5Zxv27aN2q5VVWX5UM8GCBQkK0CmyLLMGBszZsyRRx7peR79N8goVlVV/fOf/xyNRl3XpXzNdbkA8kwejKcAaABSBzQFOatSiyeqsAzVVoD9gWQFyAgRSI7jiEFM+cJxHGoHbjz2HLadR+OiU6+B2N5fC8MVUrYgWQEyQpyU86IduJFL+4w8z3NdN4fl8ZeqqgjULEOyAmSKCFeqAuZLBch1XeptzXVBskRU0FPrfDktkf8a8EsLpsby5QHIMpoMqijKQw89dOuttyaTScdx8qImFAqFioqKduzYwRhzXbdhT2mVZbmgoGDq1KlXXXVVIpFQVVWW5U2bNj311FOaptHUo3xBh5ymaaWlpRUVFdQTEY1GJ06cGIlEUInKJiQrQKbQuezpp5/2PG/cuHGxWCzgQ23pUuCzzz776KOPLrvsMoqWPOpu3F+e56mq+sILL8yePfuqq66idgXGWCwW+/7776l9OF9eO5VTUZTa2tpXXnnlj3/8o2EYnucVFBSwwM+ibnjQGgyQEZxz13VVVe3Tp49lWatXr851ifbV448/fsUVV+RXde1g9OrVyzTNNWvWJJNJSZJkWc73jslOnTqtXbtWvATTNHVdp9t5/bryCOqsAJnFOU8mk6Zpuq4b8MUibNs2DGPnzp2c882bN5eVldHA5lyXK1Mcx9F13TTNtH5W0zSp81WW5byos1IhHcdRFGXJkiU//vjjTz/91LRpU+oy1zQtL15FQ4JkBcgIsSgg9a0ahmHbdsDHMUmSpGkaxX9hYSFFS76kywGQZVnTNMYYLTypqiq9dlVVDcNg9U1fCTLOua7rq1ev3rlz50svvTRhwgTLsqj+3YCb9IMJyQqQEaJLlU5qaRvI5Lp09UstnpgiGfAyH4y0l0YvVpKk1Ek4efHCU4f+NmvWjDEWi8VYykGY9mlCpiFZATJOqhPw1e333I01+GU+GGmvN3U5hXx8ybIs19bWvvPOO4yxZDKZNtMGsZpNSFaA7Al4/S+1eKKQAS/zwUhtVBD35GPdjq5+NE3bsWPH8uXLGWNPPvnk5MmTUyfb5OPryl8NdmwCAECjwjkvLi6ORqOMsWQy6bqu67qO4ziOwzDxJruQrAAAeY9mHi9fvnz37t2MMVVVd+/ezTlvwEO7gwxvOgBA3qMG4VWrVtGqUvF4/KWXXtI0jdYnyXXpGh0kKwBA3qMJXX/961/Xrl3bokWLf//735deeqnjOKFQqPEs+hEcGMEEAJDfaKaQJEmGYZSUlCQSidLS0oKCAlq+EVNusg91VgCA/Cayk3NOy2bZtp0aqGkbuEKmIVkBAPKbmD4kpq7S/WLCLuqsWYbWYACAhkNKwfaYlwzZgTorAACAn5CsAAAAfkKyAgAA+AnJCgAA4CckKwAAgJ+QrAAAAH5CsgIAAPgJyQoAAOAnJCsAAICfkKwAAAB+QrICAAD4CckKAADgJyQrAACAn5CsAAAAfkKyAgAA+AnJCgAA4CckKwAAgJ/UXBcAAAAYY4xzLkkS53xvDxA/pRuSJGWxdLAfkKwAALknYpXyst7gTL0T4RpkSFYAgNwTSck5p4qp4zie58myTP9VFEWWZc/zOOeyLNOv5LjQsBdIVgCA3KP45JxbluW6biQSofhM5bquaZqqqiqK4nkeQ7gGVbCSNbU9hI4b2BeSJKVe8OLLBpC/DMNgjP33v/9ds2bNsmXLFEVxXVfX9SuuuOJ3v/tdOBymWiy+5kEWrGRNjdU9r9fg19E3Dd83gHwkzntVVVW33HLLnDlzamtrUx/w0EMPnXjiiW+++eYhhxwiSRLOkEEWrGRNjdWtW7cmk0lVVVF5/XW2bbdq1SoajYohhQhXgLzDOXccR9O0F1544ZFHHiktLb3rrruKi4s9z3Nd1zCM995774knnhg+fPhbb71VWFiY6/LCrwlcsnqeJ0nSypUrhw4dumvXrlyXKD8sXLjwzDPPpK8lvYG5LhEA7Dfq1mGMKYoyf/78/v37p/70/PPP55w/+eSTrutSPyu+6YEVrGSVJMl1XU3Tvv/++127dt17773Nmzd3XVcccCB4nqcoypYtW2666SZV/b/PEb0vAPmLRgUnk0nOefv27elOOgHKsrx79+5vv/2WMeY4Tk6LCb8tWMnK6rpaVVWVJOnss89u165drksUaN98881NN91k2zarG1sIAHlKlmVJkpo1a+Z53tChQ7t3737iiScOGTIkkUg8/vjj77///hdffDF48OBIJGJZlqZpuS4v7FXgkpWljHStrq62bdtxHDrgcl2uYHFdV1XVbdu2McbwHQNoAGgY8IUXXrh+/foZM2Z8+eWXs2fPnjBhgnjAuHHjJkyYUFBQgNEnAResZBXxScPeVFXVNI1aQpCsaWRZVlW1oKCAMaYoCqu74EXvC0D+kmXZNM277rrrz3/+88aNGyVJsiyLelWPPfbYQw89lDFm27boAIJgCtbHI9ozxaRpVleFRVqkoTeELl3F24V+VoC8xjnXNG379u2rVq364IMPqM/Vdd1wOPzqq69ecMEFPXr0cBwHyRpwwfp40lJBrJ+JHsQ91fue/Ppy3gAQZPTl/fnnn8eMGfPOO+8wxkpLS2nA/88//8wYe+yxx2bPnj127FjHcailCoIpoHONUyNWgr1gv1wdQkJtFSCfua4ry/LLL7/8zjvvXHrppYsWLfrxxx+3bt26bdu2//73v9dccw1j7L777quqqhKLCUMwBavOCgDQmFHbryRJjz/+uCRJpmlSg3C7du3uv/9+0zQfffRRWpEfg5iCLKB1VgCARkV0e1GL1PTp0xljhmGEQqFwOCxJ0rp167755hv2y56g1CEpEByoswIA5J7o5aH5rJMmTVq2bFlRURE1Ecfj8TfeeIMxNm7cuKKiotR+1t/cLx2yD8kKABAIqqpyzs8777yioqLp06cvX76cFoFhjEmSdOKJJ/bo0WPmzJmpm7bSBEXEatAgWQEAAoGqnrZtDxs2bNiwYd98881XX31l27Ysyx06dDjmmGNSH+w4jmmakiSFw+FcFRj2BskKABAgiqLE43FJktq1a3fkkUeK+3fv3n3llVcmk8nx48cfddRRhxxyiK7rqK0GE5IVACAQKCZpn3PqPY3FYjSyiWa1/vOf/2SMLViwYPDgwQsXLqTFmLA+TAAhWQEAck8EJG3Iqmka59wwDIpVxlgoFFq4cGEoFGrbtu1//vMf2jVSTG2HQEGyAgDkHmWk53mhUIgxRjuRKIpSUVHx7bff0nKGZ555Jj34qKOOYinrvzIMYgoYzGcFAAgEx3EkSXrxxRfPOOOMHTt2uK47c+bMXr169erVq3v37t27dx84cOBXX33leZ5pmmKdcKz/GkBIVgCAQKCNqjZv3rxkyRLqbZ02bdq33357yimnTJ48uaysbPny5bfeeitVZ1ndWGK0BgcQkhUAIBAoKTVNUxSluLj4xRdfjMfj55xzznvvvXf33XevWLHihBNOeOmll3bt2kW9sAxrhgcVkhUAIECodTcSiRQVFSWTyU6dOjHG4vH44YcfPnDgQMdxsGJw8GEEEwBAIFDTrm3bnuf179+/pKRE07S5c+deccUVjuN8+OGHs2bNKisrC4fDFK6oqgYWkhUAIBBozcK2bdv27t17/fr1tCfr119/bRjGk08+ecMNNzDGbr/99uLiYsxkDTgkKwBAIKiq6nneH/7whz/+8Y8//fTT559/HgqFVq9e7bpuu3btTjnllOuvv/60007DtufBh2QFAMg9Gr5E1VbXdcvKysrKyhhj/fv3Z4ydc84555xzDj1SVFUx2SawkKwAALmXuhmcoiie54nOVIpboiiKeBiaggMLyQoAkHtp82dkWaZJq6k/3dt/IWgw6wYAAMBPSFYAAAA/IVkBAAD8hGQFAADwE5IVAADAT0hWAAAAPyFZAQAA/IRkBQAA8BOSFQAAwE9IVgAAAD8hWQEAAPyEZAUAAPATkhUAAMBPSFYAAAA/IVkBAAD8hGQFAADwE5IVAADAT0hWAAAAP6m5LgAAABwUzvme/xJ6gCRJnHNJknJYyEYFdVYAgPwmgpOk3k69RwQtZBrqrAAA+S01ODnn/bwWFwAAIABJREFUsiy7rus4DsUqY0yWZdRZswnJCgDQQHieR/86jsMYcxyHglbTNFYXwDkuYuOAZAUAaCAURdE0TVVVwzBUVZUkyXVdWUavX7bhHQcAyHvU9vvAAw9079599+7dXbp0efjhhxVFoWprrkvX6KDOCgCQ96ilt6qqauPGjYqixOPx008/nXOuaRrqrNmHZAUAaCAsy2KMqararFmzQw89lG6jbzX7cC0DAJD3aPTvCSecoGmaJEnbt283TZMGDKfKdTEbCyQrAEDeUxSFMTZs2LCSkpJkMtmjRw9d1z3PS5vYmutiNhZIVgCAvEf9rIlEIh6PM8bOPPPMUChEc28g+5CsAAB5jybYRCKRE044gTFWUVGB2as51HBGMFEXgiRJnue5rpuTMkiSRG0y4r85KQYEDefctm3btlmwZ+tTCenr0xj651JfWuorzdPX6zhONBo944wzVqxY0atXL3F/6ssJ7LHXwDScZBVHjCzLGGUOOZd6mlZVVdM0WgcnyKiEhYWFjLG0zrkGeUZO/UQkSdJ1XdzOUYkOimEYjLGqqipZls844wxJkoJ/yDVUDSdZ6UQmy/JXX31VXl5OZwTXdbPwJRGLdkaj0fPOO09UW/P0+wm+EJmk6/oPP/zw+OOP27atqmqQ66y0Xs8777yjKIpt21TVpnagHTt2sAa3/KzjOIqi0AVQVVWVaZp5Gq70ElzXVRSlXbt2jLFNmzYdcsghjuNomlZQUEADhlm+va781aCSlc4Lb7zxxqRJk3JShmg0evbZZ9PqYjkpAASQYRhbt269/PLLc12Q/VBYWOi6LuecVqA1TXPu3LnJZLKBbUbmeZ6iKNu3b1cU5ZlnnkkmkxS0efoCaV2I2travn37zps3T1VVx3EKCwsvueQSVF6zrOEEgPgyhMNhVVU//fTT0tJSMeg8c8/LOXccR9f1m2+++aWXXtJ1HW3RQKgmEYvFjj322HfeeceyLFmWg3zWFlUfxlhJSQljTJIkWZYjkcj//M//5LhwGbNw4UJFUa677rpcF8QfGzduLC0tnTBhgriHus9ZsPv4G5iGk6ypHMdp2rRpWVlZNp80EonU1NR4nkctftl8aggmOou5rquqavPmzXNdnP3geZ7nebZtK4rieZ6maYlEQlGUBtYaTM2nNObRdV3TNFVVzfmVcWrDwN4GH+15hqF7ZFk2TZO2kLNtW5Zly7LC4XADa2wIvgaYrNTN6TgOfVuyMD/atm3DMBzHocFTVFHO6DNCHqH+fs/zkskkNcoF//CgC0Q6HdOq7jQ6RmypnesC+oNeJl1G0HVDbgdJpHaXep5HY9/ErAdqS6APhRo/UgNYfFj0K6qq0iWdpmniF7P/ihqthpOsYuNf2qFQURRFUbKz8ggd6PTU1HpGZcCh3JiJscF0BNIemZqm5WPVoaH20tHXVtT/KFxzVb1Li0kaOMZSzmwUt4wxx3FCoRBLGSVHvyIeT3fSOZA6X7P8WqDhJKs4LsWhlrV5eOJZxCqdeXfqBN+lnvXE9JsGPDc0H4lLH/HfIMxnlSQpHo8bhkEVaHEgmaZJ/6X2A5Ja4NTDjO3leMOpKTsaTrKmHTHSL2XhqcW/4hoTgKWcGVNv5LpQwNjeTxp7/igLPM+j5i7LsgoKCqj7QMwCchxHVVVVVS3Lotv0YNErXO9hhuMtVzCKFQAg96g5l5qjn3rqqQsuuKB169bRaLSgoKCwsLBNmzYjRox49913KWsxIingGk6dFQAgr9EE4muvvfaxxx5jjPXo0aN79+7JZFJV1eeee+6NN95YunTp66+/PmjQIBrllOvywl4hWQEAco9G9rqu+/TTT3fr1m3evHktW7YMh8P009tvv/3jjz8ePnz466+/PnjwYMuyGlKyirHNB/NHAlWPR7ICAOSeGNCraVrXrl3bt2+fTCYty6LqaUlJyZAhQzRNC4VCwckPv/xKKO4tblMfnDZ8NQjQzwoAkHs0jtd13YKCgscff/zVV191XTcWiyWTyVgstnv37ssuu8w0TTGZMNfl9ZOos1J7uG3btHyHZVlsj+Go9Ei67PA8zzRNUd8NztBR1FkBAHKPRjBJkvTPf/5zyJAhI0eOLC0tTSQStO6V67qJRKJ3797XXnst9bzmurw+o9fIGKPFsDRNC4fDiqLU1tZSO7momDqOE4lEaEav4zi0vqzrumIcdRA0tI8HACBP0USaAQMGLFmy5M0333zxxRcVRQmFQpZlHXPMMb17977yyitbtGiRSCQaWJ1VoFV3dF0PhUJffvnlq6++On/+/K1bt6auu8IYO/LII88666yysrIxY8aoqlpdXR2JRMRaGSwAfa5IVgCAoKCVfvv379+/f/+BAwe+9dZbxcXFtbW1gwYNGjRoEGPMtm1N03K+uHEm0KLHhmFs2rTp3nvvnTdvXnV19Z4PkySpqqrqo48+Yow99NBDEyZMuPDCC2lrprRFqbL9AlIgWQEAgsLzPF3Xx44d+89//pNaR8k999xTWFj4zDPPnH322ZZlNbxtPyRJsm07HA5v2rRp8ODB3333naIoNDQ6kUiIh9HazpIk0brW//rXv8aMGfPJJ59MmzaNqq30pum6jjorAAD838Ljl1122Zw5c7p16zZkyBCxFLlpmtOnTx89evTChQuHDBlCe7bnurx+ot1TNm7cOHTo0M2bN4fDYcdxKFN1XaekpEdyzuPxuGVZhmHoui5J0syZM1u1ajV58uRkMskYC8JlR8NJ1rS30rZtGmCWhXF0tP0hNfFjYVgAOAA0TsfzvDlz5px00klvvvlmkyZNUh9w2mmnDRgw4K233ho2bBht8JerovoibQ4r3bjiiis2bNhAXcuu6x5xxBHnn3/+qFGj2rZtS5VRRVE2bty4cOHCl1566auvvtI0TZKk4uLi66+/PhqN/uUvf4nFYmLPot+cseP7uVr07zacZE0beN2yZcus7fBATxSNRkWQY68bANgvdLqQZVlV1a5duzZp0oQ2kiOapvXr109VVcMwGsa1e+oMVKqCf/755++99140GnUcx/O8Dh06LF68+LDDDkv7xRNPPLFr165TpkyZMmXKvffeq+u6ZVmSJL3yyiuXX345vYH7OILpYE7Rads5pP3NhpOs4n2kq5Ubb7yxqKjIcZws1FlpH8R33323oKAgOzvCAkADIzbBPOSQQx566KFoNNq3b99+/frZti1J0iOPPFJeXm5ZFtXSGsAZJrXOSrcXLVpEe7ZTA/gTTzxx2GGH1dTURCKR1P3EaJ5rJBK55557VqxYsWrVKtqfYOXKlV9++WWnTp1oKg5jjIY1iS32DMNIW1BC/FnKcvEUFCJiP1Ca1UNvO8W2bdti2g9tkECPF3+/QSUr3aDJxY888gjdyBpJktq0aUMfQMObbQYAGSVW5H/uuecuvPDCu+++++677057zOmnnz5p0iTHcRrAlqupyUq188WLF9P9pmn27t37pJNOisVitGWe2FCP1S1T5TgOY2zy5Mnnn38+9bbGYjHql7VtW9d1z/PoKiTtSdOKQTGZ9n7SLkOmadIc2dRt+5LJZCgUUhSlqqrKdd3mzZvT2d40TRp9Rk/RcAJAvIN04+uvv27RokXqLksZQvOUdV2/9tprn332WU3T8r3/AwBygvpZ+/fv/+WXXz777LPV1dXUzkkdh126dBkyZAhjLB6Ph0KhgEwvOWCp1UeqDhYXF4ufhkIhyjZalYmWy0j9dVVVPc8bOXJkq1atvvvuO7rz1ltvffPNNyVJsiwrFAp99tlnL7/8Mg1ochxnwoQJLVq0SHvHqMXx448/fu211wzDSCQS3bp1GzFihGma9KS2bc+cOTMejzuO06NHjzPPPHPZsmXLli2bO3duTU1Nz549+/TpM3bs2FatWqUWsuEkqyCua8Ri1plGH7ymabTaFpIVAA4AnfQty9J1fcKECXs+YOfOnZZlNW/eXFRw2S+3Pc8jaa3BnPPdu3eL/tFvvvnmq6++Ovroo2m4L0vZblb8riRJiUTipptu2rJlSygUisVixxxzDNVlacWJf/+/9s47vKpqzf9rt9NTSCABURRF5cooo14ERX4gIhBhEBHwUuJgwwYoVxG7ICg64FWxXxsiIIwUURBGhyIoRVDnEVEYsCHthlBSTttt/f5456y7CSEGcspO8v38kefknH3OXrut73rf9b7v2rLlqaeeEnscOnRo8+bNLctymltUlnnz5s1iyyFDhgwYMIAUl3R90qRJ4XCYMXb33Xefd955ffr0ochkwzA+/fTTTz/99Pnnn9+6dWvz5s0p1IY1SGUVwkaVJ9MTG+z1eumC0bClno4iAQAZh/I1y8vLGWNer9c0TcMwgsHg888///DDDxuG0aFDhwULFrRs2ZJWvCFL91irzuU4bVaaoezVq9eGDRs456qq7tq1q0+fPh9++OH5559P21N9YJoEtSyLnL2Kotxyyy3OnyXXLs2w+nw+VVU9Ho9lWaSgx3bOpOW0ZTAYDIfDOTk51AbGGP1t1qyZYRgURzZp0iRd17OyskSssvOF0OyGo6xOlz1jjESOHT3SSRHOkGBy3SA2GABw0tBMIcmDqqoUoeP1ejVN+7d/+zdJkjZv3nzqqaeS5UCyVL9klR2trCRLo0aNeuWVVw4fPkyhKj///PPFF188bNiwe+65p7CwsHnz5uK78XicxFVV1UgkQm/SrCpFGIk+maKZRJT1sdOuIr6JRjBk8tL5JJtVVP/XNO25556jJRMqKiroF6jlN998c35+vmmaDVBZqywkJKLV07Nr5nBuwGYFAJwE1MVzzgOBgHgzHo/H43HG2K233ipcxJzzioqKYDBIZutJdDi8dkuipq4rczaAXjRt2nT8+PH33Xef3++3LMvn8xmGMWPGjDlz5ni93uuuu66goGDw4MGtWrVq1qwZ/Qj5bFmiNhM72jcufvx4STjC7qqiHc4W0o+L7UOhkCg2qev6G2+8EYlE+vXrJ2w5ouEo67E2vpM07No5FV/vxo8AgIxD43Jd1z/99NNVq1ZJktShQ4drrrmGQkY45w888AAF0ZSXl1MCPYXFMofTrpY7Op7YpI0qYibLsmEY9957r2maDzzwgKijFAwGY7FYZWXljBkzGGPTp0+XZXngwIHNmzcfMmTImWeemZ2dTfarOKIq0awn3TABtYR8A5WVlb179/7www8pYHjMmDG2befk5JC7WMxFNhxlBQCA+oskSYZhqKr6+uuv//WvfxXvd+vW7cMPPwwGg5zzZ5555uabb+7fv7/f79c0jfyckmONl9rvi0SI8jidkkCv6yhOJwFpWEVFxfjx4znnEydOpNgl0zRpspkSYCorKyVJmjlzJmNs+vTprVu3Hjt27ODBg3NycmhxPZqMS3qz6Yzpup6bmztr1ixN0yKRiKqqWVlZjDFa9s5phTfABRMAAKDeQRN7lmU9//zzXq938eLFs2fPzsnJWb16df/+/RVFoUjJvLw85rCryLY7Uc+ccJbSkm1kflHIJ0uUa00/siwHAoFoNPrAAw98++23o0aNKiwsjMfjkUjEMIzKykrbtoPBIGPM5/NRoYYff/xx5MiRnTt33rJli6ZpNEpIxWiAJ9aIHT58eJMmTSzL8vv9lL3KOfd6veSO/qcDOektAAAAcKKQ2imKcujQoVtvvbVfv35Dhw797LPPioqKVq9ePXfu3OzsbMMwKGrJ+a2TFhJKdLn77ruXLVsmOerbOOcLuYM6HNxxGyB+mSeqJlG1wnPPPffFF1/8+eefZ86cOXXq1AsvvLCgoCASiYTDYc65ZVlULCIQCCiKsnXr1vbt2z/33HMU9kVRSEmHznOTJk3ECXfOyIoIG9isAADgIqRElur69etLS0sZYx06dJg6dWqTJk2GDh36xhtvZGVlUWk5Z0zNye2LDNbS0tLp06dfffXV11133f79+8l4FYE/7OjpxqQco7MBVSJUhLgyxgzDiMfjqqoWFxffd999X3755Y4dO957771p06Z16tTJ7/dXVFSYpkn1HMh2fPbZZ3/44YeT8I3XklgsFgwGb7jhBuaoCXVsQA9sVgAAcAs06ylJUp8+fb7++utu3brNnz8/Go2ee+65S5YsycrKGjlyZCwWy8rKSpYFSW7MYDBYUFCwePHiP/3pT4899piiKFQakOxjUXo36TarmOulvcTjccqQiUajlHtK6Ua6rpMbPBgMDh8+/N577/3iiy/WrVs3bdq0iy++mGKXOOeapu3fv/+JJ55IXd1HyswJBoNVQoirBcoKAACugLrsRx99dMiQIbt37163bh0ZZ5dddtnSpUvPOeeceDxeVlaWFPORVE3TtHA4PHny5LVr10qSNGnSpG7dui1dupQ+ikajqYtgclqolK1L5OTkUGYqBVJ5PB4SS1mWyUi1bbtdu3b33nvv+vXrJ0+eTNpPYvz111/v27ePJlyT2FRxEoQr/g+d8IgNBgAAV0A+3rZt286ZMycajVJAU1ZWViwW69Kly3fffffSSy9ddNFFSSmhSsJAwhYOhy+//PKdO3fOmDFjypQpffv27dGjx/jx43v06EGGGonc8ay0uqgvJdt4PJ7p06fv3LnT6/XG4/Hi4uI///nPVNLIuVMqOGVZFlXeZ4w9/PDDJSUl06dPp+yjnTt37tq1q0WLFtUGYXFHJUXxjnOW17nZsV9kDpf1Hx4ylBUAAFwEuWGpZiGVGdI0raKiwufz3XvvvYwxsQZL3RGF6izLysnJue+++0aMGHHbbbctXLhwxYoVEyZMuPXWW1u0aEFGYYqW8CJ37ty5c9evX0/vbNmyZdWqVfS6SrgQ55yUWOT+jh07dvHixbt376boXOmY1dRZdTPHYu9SorxPlc2cVNm+NgcFbzAAALgIj8dDakovKDszFArJshyPx2mBs7rvRYQi079kHeq6npeXt2DBghUrVvTu3fvxxx8/55xzJk6cSJHDsViMnLGGYVBhhLrPvwr/Kh1sKBTyeDz0+2KhG1Fkn0SRwqwoUikWi51xxhlt2rShoGLnIqwsMW4Q2brUZvpBWuSVpmkZY1SLozYTqLUEygoAAJnHWfFHLG9Oa5FS9R9FUbxeL60fV8d4XfFd0h4hb7Rf27a7d+/+ySefzJ8/3+fzTZgwoUuXLsuXL6fM13g8TqkvLBkiRKY557xv375UuZcx9uWXX65cuTIQCFRWVlJwE3cUjaI6guQZDgaD33///ZYtW1RVjcfjiqLQxiIHhjHm9/vJf042N4krBRWTsW7bNk0tJ3FSWc1UUrATke/MEsudikGKeKc2v0PHIoK2DcMQdZlT2PrEfmns42xzSvdLNwSdGVFL2nk/VYGeTPGapv2rvJOiaPWTRiRf079U8LrKO5lrXfUoiiImh2h077wx6JKl+oY8IWq+MRhj9E6GWlc94iRTb0sTgeIdUfHgDxGPDPkYyaaRMl327yQQB05hPpZl/WGHQBuLvou2F8dOuT3XXXddt27d3n333YkTJxYVFV155ZWPPPJIt27daB1TkuG6nCspUTqfVqWleWVN0/x+/8033/zJJ59ccMEFVHC/SrYoqSNjTFXVyZMnl5SU0DwrFVgWUdb0r67rZPqHw2G6NxRFoUIT5FfnnK9duza58c+qe9amF05wVVXz8/OZIyy7lv59OhZaPrd58+ZpOzTaEZXxpDZTilUadkqVqfPz8zVNq/3xVuk6xTsuXFnW2dPRAR77jtsQ3RzdA16vNxwOp+3GqAvH3hgssZCW26jhxqhSG70G6ItUl+6EniA306xZs+zs7FoeTosWLRhjFI5bZXvS2iZNmvz1r38tLi6+884758+fv2LFiokTJ44cObJ58+a1jOWpARIzVVVN02zfvn1RUdHHH39MVtaePXt69eo1f/78zp07V/tdulFvueWWefPm0S/Ytn3OOeecffbZpmmSlHbq1KlVq1Z79+5VFMU0zSlTpixcuJBENxaLWZZFNSP79etXUlJCpSdO+liqoI4YMSJZv3WicM7Jt9CuXbtx48ZRXjDn/IEHHti4cSNz+Cjuu+++AwcOkN+ghh+kUdiOHTsURRk+fHgoFErP2JNcDevXr8/JyaH6locOHbr//vulxBpGqdgp/ezhw4dlWX7sscfEklLHbknn7dRTTx03bpzf7+ecezyeTz755Msvv3zwwQcpfU2W5eXLl7///vs0yZGKBp8QlMfWu3fvoUOHxuNxEqfbb7994MCB11xzTSwW83q9lZWVo0ePpjKhbjCqyBN19913d+jQgdr8ww8/PPHEE1u3bm3bti31IFu3bp0yZQoVGc+sVcQ5DwQCkUikffv2d955J3kCPB7PokWLtm3bdt9999EpVVX1rbfe+vLLL+lRzWCDCeoi77jjjk6dOtFJ3rVr10MPPTR27NiLL76Y1ubcsWPHhAkTaL6t5nvD2WPcdNNNLOF5Snqbo9Goc0Vuuhmc51OWZb/fX8sBwbE4xxnhcHj//v0bNmxwLmp2vK9Qr/v3v//9yy+/pLYxxkKh0LRp02gISKuiNmnSZO7cuV9//fXUqVMff/zxZ555Zvny5V26dCFvwcm1maAbj4Z0Dz/88McffyzWzjtw4MDll1/ev3//Tp06/eUvf7FtOzc3l3NeWlrq8/lmzpy5bt26ZcuWeb1eGsXatv3EE080adKECgibpnnmmWeSXtLwa9GiRRMmTJgwYYLY+969e2+55ZZly5YFg0E60rocixN1/vz5yfqt2iNuAnpO2rdvL54B8qpv2LCBXA26rsuybFnWwoULfT6fCLau4TfJEfT555/HYjGnAyGlkBIUFBTQ3svKyj744AM6KGHIJn2nUqLayPr16ykYvdrjpXurTZs2t99+u9/vp+LRmzZt+vDDD++8886mTZtSbZFNmzYtWLDA6/Xqup5BoSLvPdlJ119/Pd0SlZWVHo9n9+7da9as6devn3Dp7N+//4svvqA7hJ3gch/JRbgQQqEQDfYtyyI1ysnJId8apZl/8803e/fuFQtGZqS1dKLoniktLR0xYgTpkKZp27ZtW7FixejRo2mdS8Mw1q9fP3/+fI/Hk9yu5+SgU1pUVNSxY0dy3qqq+s033+zcufOiiy4iJ2EwGNy2bdvPP/9MZdNr/kEyX2RZXrRoET2tye00aDLvoosuKioqKi8vp0gZwzC++uqrLl26iKE/rUdWWVlJPclJCDz1BkLFt2zZ8odufNq1bds7d+7csWMHvWlZ1vDhw5kj4ZXMA1VVc3NzmzRpQl/Zv39/HW9gES5Ez7tlWR07dnz55ZfvuusuxpjP5yOB/PDDDz/88MPHH39c1/XWrVvrur5v3z6Px0NaEAqF6NmPxWLDhg27/vrrjxw5EgqFqNeNRqNDhgx56qmnPB6PaZqapk2cOHH79u1U+Ne27fnz5x85coQG7lSY4qQPpyo8o4j+Rdf1eDxuGEYkEuGcL1q0iDG2detWmmo+oV/7+9//zhgrKSlJUZuPt99Ro0Z5vV6KmBdRbane9f/8z/8wxpYuXVrzZjTIoHC4cDhM/3LOdV2PRqPRaJTU1LZteuEGqF8wTTMSidDtwRMDLyMBT8tJPlEMwwiHw6ZpRqNRzvkVV1zRrl07znkkEhFZ7Rlu4tEYhhGLxehZoxugsrKS7go67XRXZ7qZ/wcVhqXY0Wg0Sjez7YCUoEr9oBro0KHDJZdcwjmn65VBxMozJwcd76OPPur3+51TyDVw6NAhxthLL71EexcljShnVJzesrKyp59+miTjrrvu+uGHH+j0irHISWAfA917L730Es0G+v1+r9fr9/spjIsGJSyR1er3+0OhEE2Xqqo6adKkgwcPxmKxWCxGXRzd1ZzzTp06Mcby8vJ8Pp9z4Vv6KXqnd+/ebdu2pWHQbbfdZts2Pa3UqpYtW9KI3+Px7Nu3j0b2NR/4/8UNpRmeMC7pRTQaDQQCYn07EYAgZtQjkQgFyIkghWp/k2a/abh3+PDhZs2akYM01QNtGg2xRFQRuZhojSFnYEVyd0rpZcIYYoyRj/TYLW3bpsG7LMs0LhPTDOQHplNUWVnp8/no/GfcNBGdo6ZpNJ5VVZVGXTT8pHkUajNPrHuVivNcS3giml9KxHOKQ6ClwXjCAcg5pxGYWKUkI62l0yVSJzVNo8R8WZYrKyvpVmGMybJMi3nRjeFczSNTbRbZnKK7IOOGbgmKyqFtRCjZ8drsfHI55+T8OGmXbLUNpheUrEKSQLMtVDtebCweOhHCehL7oqkoRVFisdjevXtPO+20Gp5lag91IBUVFYwx8q6zREItRQuWlZW9++67U6dO3blz54UXXvjggw8OGjSIMVb35B9nw3hi6iEajd511139+/cvLi5evXq1kCdN00gFZVnWdZ1MAvqoe/fu999/f69evSj0VUTk0Y0di8Xee++9oUOHbtq0iXaak5MjEocsy4pEIv379587d+65555L2kE/4oQUmjFG2i8Cr2o4OjVT3Sg9AyTvdL7oFhdqyhIueBFZIzlSeo+FJ8wXOjuBQKCGjZN+LGK/YmlDuu3EYoFJb4kYHLFECAbtix1zy1J/Qe4+UibuiPugk2zbdiAQEI96BsWVJ6YJRE9Ep5fqn9EDT+MnGrWwROZA6rzutWwzObVInOg2pn8pbY7OJ80J8cRkW0ZaS9DpIgWVHAkYnHMK6xATNDRKoBFYZk8y/aWxlLMDpQPhjggmurdFJ3O8NgvjyfnpsQ9RXdpMe6f4BtFsarNYtJwnrFUabNU8GqgWOlIa29EA9J133nn00UdpAHfs74jeQ3RWdN4ikYjP56Ml0hhj33777eDBg3fu3HnaaafNnz9/wIABNDWraZpIKk3uzeD1emOxWMuWLVeuXLls2bK1a9fOnTtXVVXhrKadnnfeebFYbMSIEZdffvkVV1zBGKMxq8hWcl7ENm3afPXVV++///4LL7ywffv2I0eOMMaCwWCrVq31tFUoAAAgAElEQVTOPvvscePGde3aNRaLnXbaaXT+CwoKeMLDRz/Vpk2bnJwcYSaJO6qGC6S6JxyUWsITGUvM0WHRU/2Hv2A7cmycX0y1SIi90EkXAwIxCE3FTrkjapoaUGWBQCfOUbDzi8yhZOzo1aMyjrgHnPG04iahT10btkqPqOj0RQeanhuy9hzvile5dd3TSzDH1SeOvQdqb0vR5RB9pbhYSbfLxe8zxkT/xhxFf+oYlkxt9vl8Bw4cePvttxljVDiexnnVHosYWrFEb0lBLVSkYvPmzc8///zs2bP9fv/YsWNHjRp15plnhsNhj8dDp1fc0kk5UeJHJEny+Xw01ikqKioqKpo4caIsy5999tmePXtozHrqqaf27NmTJW5LsgequOtETyjiA4YMGTJ48OBff/117dq1hmGcd955l156qThwxtiKFSts2/Z6vTT9RCMMatjq1asptFNKhM78YVeZGW9wDYjxGnNcvFo20vld5zupxjnGrNmwTsVOnX9ruesq27jtHqjC8ayN9Lek9jivhXiRtnujwVPtORSKWPszLLYUl+bYPiRZ1PCbSdkdHYLX66VfKykpEWFQNTxB4iPyWqmqWlZW9uqrrz744IOMsdGjR48ZM6ZNmzZUCp/KJDm/nqxRSJUWSpJEYQrk42GM9e7d27kBzXxRYLPodav9WbIiqP2c8zPPPPOss86iT4VJSrNOZPLGYjGqxUF+GuEbE0mxtTzYahwFmUUM65zv1HKYX5fv1oUq+z32Rap36jTTU71fUHuqXBdW3S0KksiJnl6xvRgW19OHSJjd+/btIw/wG2+88cgjj4RCIVbdsQg5lBJ1+WVZPnLkyPz585944ok9e/Z06NBh/Pjx1113HWOM4qtJYISGJbeXc/6IkEPhyZdlmYLL7EQpJTJeyfd7vDbYiRoUNH9M343H4xS0IfTYuSNd1ykGgjsm3SmBhaI9alDxKrjRmQYAAOCEoPCl2bNnU26PEI8qKafOwQRLBD+GQqGdO3f26dPnf//3fwsLCxcuXHjttdcyxsj/SSEa5HStIqspwjknSP9SPBr967TFa2gJHb4syxQ/TAYozW2LCXjaknzmNM8tOWbKpERgAekrvfmHZRUIKCsAANRvhBucTLpYLBYKhUpLS8VCp8duT8TjcZ/P9+qrr95xxx2hUGjs2LGjR49u3bq1KNcgpMs5s5j0eWgnf2gN13LW3+mKqPYXqrwvQmWdv++M5xCKW5sGuChiBQAAwEkgVIQSqSmU6dVXX6XCL9VWVROSE4vFvvvuu0suuWTTpk1/+9vfWrduTRl6IlrQCUt9iEOVqJHacLzfcU6fp4IajgI2KwAA1HsoGnbYsGGtW7eePHny1KlTu3Xrpus6lf2r9iuc8yZNmrz77ru5ubn9+vVjjJGmOrc51uBLc9hKxn/n5ICyAgBAvYcmDtu3b3/eeedNmTLlzjvvlBJLvlC6KqvO0ZqVlXXDDTewxOQl5d2KbWo2y0ANwBsMAAD1G+ENtm27tLTUtu2DBw+KWivckRBI23PHBCQVNRSZr+IFr29L6bkK2KwAAFC/EXOKFK8k/jqllB1ts4qPxHzq8X42HQfQ4ICyAgBA/aZKSi6rRXY7JDOlwBsMAAAAJBMoKwAAAJBMGo43uMqMAq0o5KzRnzooAI+C6/4wzwkAAEDDpuEoa5WCls2aNUvbQii0o0AgIIQ8iQtRAQAAqF80HGXlR9eY7tOnDy2RnQZ5o4KTP/zwQ5MmTcSquaneKQAAAHfSoJSVXlApr5KSkng8noYVvHli7fFoNEpLRtNaCindKQAAANfScASgSnmRdevW5eTkpLMBY8eOffnll1VVPaFl/AAAADQwGo6yCkjSSktLyYJMtW+Wc04rBZKtTCvOQ1YBAKDR0gCVlUqK+Hw+RVHEWrWp251YBdC2bc65WGAI5UsAAKBx0nCUVcQGi+wXErw0xBOJepuUckNL40JWAQCgcdJwlLVKbLBYmS89u3Y2ANYqAAA0ZhqOsla7jqCzkGaqd+0s14liEQAA0GhBdUMAAAAgmUBZAQAAgGQCZQUAAACSCZQVAAAASCZQVgAAACCZQFkBAACAZAJlBQAAAJIJlBUAAABIJlBWAAAAIJk0nBpMouyRqDWYzuqGYl+ovgQAAI2chqOsLKFqVGXQTpCG6oa0o2OlHdWDAQCgEdJwlFUU7JUkSVGU3NxcRVHEmm4phfYSCATE6jqQVQAAaLQ0HGUVBmssFrMsq2PHjrRmaqoVjvarquqOHTtUVY3H4z6fD8oKAACNlgalrJIk2bZ91lln9e7d2zRNznksFkvP3n0+X2Fh4XXXXacoimmaqtpwTiwAAIATouEIADmBbdvu27dv3759M9UM0zRhrQIAQGOm4SirQNd127ZZYuaVVbd0axIhW5lzTlaycAWnwRENAADAhTQoZSUl0zSNOQQvPbsmHdU0jXOuKArmWQEAoNHScJSVdFQEA6fBWiWEhPv9fsZYNBoVfmmIKwAANEIajrKm2Uh1YhiGpmkPP/xwixYt7rjjDtM0Kfcm/S0BAACQcRqOsqbNSK2CKMC0Y8cOwzAoNjjNbQAAAOAeUDc4CZCc+/1+r9dLpnOmrGcAAAAZB8paV4StbJomza2SCQtvMAAANE6grHVF2KbOJB/IKgAANFqgrHUFIgoAAMAJlBUAAABIJlBWAAAAIJlAWQEAAIBkAmUFAAAAkgmUFQAAAEgmUFYAAAAgmUBZAQAAgGQCZQUAAACSCZQVAAAASCYNZ60bAACov9SwDma179ObqAHnTqCsAACQeaoopRBa5/tVpBSy6lqgrAAAkHmq2KxVZJXer/ZFBtsMjgeUFQAAXAGJJS1Dadu2LMviHZJS27YZY4qiyLIsPgUuBBFMAADgIgzD4JzH43HTNC3L0nWdc24YhmVZiqIoimKaJnOsXwlcCGxWAABwC5xzy7JUVQ2FQowx27ZN05Rl2ePxMMYsyzJNU9M0OIFdDpQVAADcgiRJgUAgEonMnTs3Eom8/PLLsVjMsqzLLrusV69e11xzTV5enmEYsiwfL5AYuAEoKwAAuAKaW/3222+HDBmyfft250fz5s2bN29ey5Yt33rrrSuvvJK2zFQ7wR+CawMAAK7AsixJklasWLF9+/bOnTtv27Zt165du3bt2r1792+//Xbvvff+4x//GDx4cFlZGcKXXA5sVgAAcAXk4PX5fLIsf/zxx02aNKFJVvp02rRpHo9nypQp7Di1I4B7gM0KAABuQZKkWCxm2/bGjRsZY6qqyglWr149e/Zsv99vWRZk1eXAZgUAAFdAlmjHjh09Hk9RUVG/fv26du0qSZIkSV999dUHH3xgmuaYMWOaNWtmmqaqovd2L7g2AADgChRFsSyrS5cuS5YsmTBhwkcfffTRRx/RR7IsZ2VlDRo06KGHHqLE1sw2FdQMlBUAANyCoijhcPiqq6666qqrfv/9d03TbNuWJMmyLI/HU1BQYFkWlNX9QFkBAMAt2LYdDAY3btz4+eefz5gxo6SkxDAMSZKCweCll146cuTInj17Uo1DhqLBLgbKCgAAroDM040bNxYVFR0+fFhV1Xbt2nXt2lXX9ZkzZy5YsGDBggVLly7t1asX1WnCKnKuBcoKAACugFy+X3zxxeHDh995552rr746GAwGg0HG2OTJk1etWjVy5MiBAwfu2rUrPz+fZDjTTQbVg6wbAABwBVT/wePxyLI8YsSIgoICqnRYXl6el5c3cODA0aNHR6NR8g9nurGgJqCsAADgCsgMpXzWxx9/fP/+/QcPHrQsizEWDodXrlz5yiuvaJqmaRryWV0OvMEAAOAKyGa97LLLcnNzn3jiieeff57ycOijI0eOMMbmzJlDtZmQz+pmYLMCAIAroFyazp07b9269amnntI0LRwO67oej8cNw7jzzjvnzp07ZMiQaDQqsm7E0uiZbDc4Box6AADARUQikcLCwgcffPD222+nNW0oBrhJkya0gVi6lWZb6VOIq6uAsgIAgItQFMUwjEgkIqSUKCsre/nll3VdZ4w9+OCDXq9XrCUHWXUbUFYAAHARNLeqKEo8HrdtW1GUaDTq8/ksy3ryySctyyosLNy8efO8efNs2/b5fJhwdSG4JAAAkHmcHl1d17OyskzTZIxxznNychhjXq93z549mqb99NNPpmlKkkRmK+pFuBAoKwAAZB6nRzcrKyscDkejUb/fHwwGV61atWbNGr/fX1xcnJub+y//8i+yLJumyTmHH9idQFkBAMBFqKr6H//xHy+88EJlZWXnzp2zs7PnzZtHHz355JNz5swpKioKh8O0QDoMVncCZQUAAFdA1YDXrVs3fvz4UCgkSdKyZcsYYz169OjRo0c8Hn/88ccfe+yxrl27+v1+WrdV0zR2tCcZuAEoKwAAuAKaNF29erWiKN99911eXt7YsWPnzJkze/bsgoICxtiPP/44d+7caDQaCoVoxRuReJPhpoOjQaUIAABwBSSToVCIcx4MBnNycnRd13WdQpkYY4ZhVPkKTbXCIew2YLMCAIBbkCQpEAjYtj106NBgMPjRRx8xxoYPH/7OO+/MmTNnwYIFnTp1CgQClmVRJis01Z1AWQEAwBVQJmtxcfHatWvnzp0rSdI555xz5plnLl++/IwzzmCMybI8adKkQCBgmqaiKFhIzrW4S1nFbEE9KoZZpc0svc12nqh6cboAAMdDlmUqq/TOO++89NJLnHNFUbxe72uvvVZWVqZp2p///OeuXbuGw+FAIAAnsJtxl7KKG4VeUMCby3O2nG2mdopmp3S/Yl9ij3jMAKjX0FNs27au636/nzFGM6yjRo0S24iPgJtxl7Iea7NKDjLatOMiRFRom3iR0jY7YwLJKeTm8QcAoJZQtUJaPM7r9Uaj0XA47PF46FNN0yzLomQb4FpcqqxCNtzv53Qai/QwpMfOdv4+jXPdfJYAADUjPE+KotAicZRXEwgE2NEDd0VR4KZyOe5SVmF40V/LskzTNE2TouBcC3ls6JEwDEP8m9KdWpbFOScttyxLkiQqyJLSnQIAUsSxi8E517FxTjY5N4a4uhN3KStzTFJKklRQUKBpmvv9Hl6vlzHm8/kCgUCaG5yTk0OKTmarqqoIFwSgPiKUstpYyCpvQlZdjruUVdw08Xiccz5u3LicnByRueVOaBygKMqaNWu2bNmyf//+eDyehnlWzrksywcPHiTLVbig8bABUE85oX4DT7qbcZeyCkdHdnZ2YWHhkiVLdF13FvFyITQaoHD5X3/99bvvvhPxRKlWVsaY1+tt0aKFpmnkDU7d7gAAANQSdykrY0xRFM559+7dd+7cSbVIaDLftZDJqGnajTfeeOqpp06aNEnX9TQ4hMWEtK7rsizHYjH3u80BAKAx4C5lJQ8n51xVVVrUlyUC5Nxss5KyUrAVvZOGNgvPucfjISsZNisAALgBdymrM+5c13XGmKIo7l+DkFpIAbo02ZmeNkuSZJqmrusUpo9wQQAAcAPuVVbhBE5DNFBdcNaykGVZ/GVpsVlpTQzGWDwepwRz154oAABoJLhLWY+1uupLsQh2dDJuGipF0ClSVXXfvn2BQICc5yjSDQAAGcddM3POjC4hTsL+cyfs6NxtcSBp2C/lIw0cOHDJkiVer5dybyTIKgAAZBR32azsOL5fN6uFU02rvEg1VeZ03XyWAACg8eAumxWcEE7L1VlWNNPtAgCARo3rbFZQS4Rxj2pnAADgKmCz1lec6wJVCaECAACQQaCs9RWneZr+KV4AAADHA8oKAAAAJBMoKwAAAJBMoKwAAABAMoGyAgAAAMkEygoAAAAkEygrAAAAkEygrAAAAEAygbICAAAAyQTKCgAAACQTKCsAAACQTKCsAAAAQDKBsgIAAADJBMoKAAAAJBMoKwAAAJBMoKwAAABAMoGyAgAAAMkEygoAAAAkEygrAAAAkEygrAAAAEAygbICAAAAyQTKCgAAACQTKCsAAACQTKCsAAAAQDKBsgIAAADJBMoKAAAAJBMoKwAAAJBMoKwAAABAMoGyAgAAAMkEygoAAAAkEygrAAAAkEygrAAAAEAygbICAAAAyQTKCgAAACQTNdMNAAAAUCc45zX8dSJJUtpb1xiBsgIAQP1GkiTbtqUEnHPxF1KaEaCsAABQvxFSatu2YRiSJOm6zhizbZtzLsuy0FcIbXrAPCsAANR7SFkVRcnLy5MkKT8/X5KkWCzGGLMsK9Ota3RAWQEAoN5jWZYsyzt27Fi4cKGiKPPmzfv22289Ho9lWbBT0w+UFQAA6jecc1LQ6dOnDxs27ODBg8OGDdu8ebOmaWS2gjQDZQUAgPqNJEmyLHPOO3To4PF4KioqTjnllOLiYtu2A4EAzcIyTLKmESgrAADUe2RZZowNHDgwKyuLMRaPxw3DkGVZVVVN00SIU6ab2VhAbDAAaYJzjq4NpA5JksLhsGEYjLFzzz1XURTbtsVHwnIFaQDKCkBKECIqBJX6NYire2gw10Kk3Hi93j/96U8bN24cMGBAIBAwDENVVbiC0w+UFYCU4MwgFJqKPs5VNJixDt1ahmFkZ2cPGDBg48aNZWVl8JFkECgrAClBTGuJsjhkVWC6yz00PO3hnB84cIAxdsEFF1BYU6Zb1EiBsgKQEoSFKua6hLJmtF3gn1CJIuc7dNWOfd/lUGtt27Ys65xzzgkGg3369DFNk7JxFEURW+L2Sw9QVgBSCOdc0zQSVJ/Pl+nmgKMgydE0zbIssl9FJaNMN+1k0DSNMXbzzTdPnTpVVVVV/Wf3jtjgNANlBSAliGhMXdc3bdrUpk2bSCSS6UaBo+Ccq6q6e/fuCy+8kJz2hmF4PJ7du3evXLmSMkQz3cYTgO630tLS0tLSt99+Oysry7Isj8dz7bXXejwexAanEygrACmBTB/O+YABA8444wzLsigdAr2bq5Ak6dJLLz3//PPJrxCPx8nyO+WUU0iNMt3AE4AGc2ecccaqVavKy8vJOawoSiwWUxSFBgq4/dIDlBWAVEE93fjx4zPdEPDH6LquKEogENB1vWXLlqeeemqmW5Q0qKRwplvRuICyApASKBBGluVYLEY+RtYgEjwaHrZta5pGdRUonpbWYqPZ1vpr5Nm2LWLRvV5vppvTuICyApAqnOEwzt6t/nbWDQzyjkajUSpnT5pKq5lSXUDarH5dL5HrRWFZsizX04Cseg2UFYCUIMxTTdM0TTNNU+Q/wHJ1D5xzv9/PGIvFYpqmCTUVPoZ6F1IrkqcVRYGmZgooKwCpgvrljz766LzzzmvdurV4v37ZQA0YslB//fVXxtgpp5xC/9JHzuKU9et6CZu12gFB/TqW+gumtQFIFTTL9eCDD27YsMFZHh24BMuyGGMbNmzYtGkTLRIuPpIcZK6BJ4Nos1QdmW5dYwE2KwAphHOem5vr9XqpAFOmmwOOgpQmGAzSv/CdgmQBmxWAlCDsBsMwyFxAQqE74ZxTIUBR3KN+TawCFwJlBSAliN5Z9NTotd0JXRenrGL0A+oIlBWAlODsnZ2Lx6HXdhvO9f4YLhBIBlBWAAAAIJlAWQEAAIBkAmUFAAAAkgmUFQAAAEgmUFYAAAAgmUBZAQAAgGQCZQUAAACSCZQVAAAASCZQVgAAACCZQFkBAACAZAJlBQAAAJIJlBUAAABIJlBWAAAAIJlAWQEAAIBkAmUFAAAAkgmUFQAAAEgmUFYAAAAgmUBZAQAAgGSiZroBDRzOec0bSJL0h9vUX1J6aHTqJElK3S4aA7hGACQdKGsKqdKnUBdWpZdxblPtBjW8736qPZbaHEhtTgX9FDruOnLSZ6/aM3/sPY+rAxohUNYUIuzReDzOGPP5fKZp2rataZpt27L8f65427Y55/F4PBAIWJZl27YkSfQp51zXdZ/PRxuoqsoYU1W1vpi5op3Uw+q6LsuyZVmyLHPObdtWFEVVVToblmUpikJnQFVVRVEikYjH4xEfGYbh9XotyzIMg95Hx1136BrRmaSTT//S+7Isq6pqmibde5Zl0bcsy/L5fHRBFUUxTVOSJNM0vV6vaZqmaXo8Hvo6rhFohEBZUwV1TLquc859Ph9j7PDhw02aNLFtOxqN0jucc+p6OOeBQCAej3u9XkVRotEoyYnH4/H7/fS+z+eLx+PU/QlVri/QMXq9XsaYpmnOjwzDsG3bNE3LsizLCgQCtNmBAweaNWvGGKOzYds2yappmj6fzzAMBmdjUqEBzbHvk2rSNVIUhXPu8Xg0TTt48GB+fj5jLBKJ0GCRxo40WorFYrIsV7nWADQSoKypgrp7sr0WLlz4+eefz5gxo2vXrg899FCnTp0Mw6BOh6yxX3/99d133128eHHLli179+59xx136LoeCAR++umnuXPn/ud//ucZZ5xx1VVXjRw5Uvx+fTFbBaZpPv300+Xl5TSYoP5XkqR77rknGAzatu3xeEzTjMfjK1aseP7559etW3fXXXddffXVnTt3puHI3/72t6VLl3LO+/bte/fdd5PtLhwDUNm6QKbqqlWrli9fLkkSnVtZloPB4K233pqbm0uSyRjzeDwrVqxYvnz53Llzr7/++u7du/fo0UOSpPLy8tdee+2TTz7xer39+vW7+eabg8EgrghopHBQZ8gwHTZs2MMPP8w5j8fjnHNyWlqWNXPmTDrVTZs2ZYzl5+evXbtWWGmGYei6PmzYMMZYbm6u3+9njI0aNYpzfujQoXbt2jHGsrOzyYx77733TNPUdd22bfou5/zSSy+dPXs255z+Jd+yS7Btm5oaj8ej0Wjz5s3pVMiyLMzuvXv3hsPhaDRKp/HJJ5+k9/Py8hhjl112WWlpaTQa7du3L2NMWLQDBgwwDIO862JfGT3WaqArcskll3zwwQecc7pwmW5UVahJkUjEtu2pU6ce20X8/vvvlmXFYrFIJGJZ1rp168i0pQuUnZ29e/duwzDuvfdexlhOTg75YwYMGMA5d14gF0IXaPHixYsWLaJ/qbVubjOoF9Qzp2I9gnOuKMqePXtuuOEGxtj69et/+eWXOXPmHDx48MYbb6SZVNrm0KFDc+bMueCCC/bs2fPTTz/967/+65tvvvnzzz/Pnz9/69at99xzz759+9asWeP1el999VWyG1i9CmgiG0jTtJ9//jkajR45csQ0zSFDhjDGxo4d27x5c1VVSWsPHTr0yiuvMMbmz5//+++/9+nTZ926da+//jrnfMmSJT179ty7d29JSclVV121cOHCw4cPk29cTE7z+mbHuwTOuc/ns217zJgx0Wi0vLzctu1JkyYpijJgwIC8vDzOuaqqHo/HMIxHH32Uc75s2bLffvvtmWeeqaysXLhwoaqqr7zyyimnnLJt27bdu3dfeeWVCxcuXL16NU2cZ/r4AEg3UNZUIUmSJEmhUOiJJ5548cUXO3bsGAqFOnfuTOEepAT0lzycd999dyAQaNGiRc+ePWOx2A8//LBhwwZZlouKigKBQIcOHbp37/79999v376dQn4yfXy1QkpAwun3+71eb3Z29urVqxcsWNCpU6dHHnkkEomIyeZgMHjkyJEuXbr06dPH7/c/8sgjkiTl5uYuWLBAkqRevXrl5ORkZ2f/v//3/yRJmjVrliRJ4XCYNfTkpZQirpGiKB6Px+fzZWVlbdq0adq0abm5ua+//nogEGCMUaRSOBz+4osvmjZtevnll4dCoeHDhzPGVq1a9emnn0aj0TvuuKN58+b5+fm9e/dmjK1bt45zXl/uVQCSCJQ1VVBfn52d/eijj44aNYoEYNKkSZZlderUiYwtkpPPP/+cMRYKhTjnhmEUFxczxvx+vyRJhYWFXbt2raiokCQpGAyWl5dv2bKlHqmI0z3CElHQuq4XFxfHYrFHHnkkLy+PYrVo1lnX9Ugk0r17d4qFueCCCxRFWbVq1a5du3jCY2lZFk3gxWIxSZI8Hg/67rrgvEY0ScEYmzhxYllZ2ciRI3NzcykAmDYIBALkb/D5fNFolJR48+bNCxcuZIz5/X66LnQPe71e0uwMHyEAaQfKmip4ImkhEolUVFT4fL7XX3/9rbfeatq06cSJE5nDVggGg4wxCnaloEr61DAMVVXJU0q9HgkJd4TtuB/qWEUGqizLW7duLS8vv+yyy3r27KnrOh1jZWWlqqrk+KWJasZYOBz2eDz/9V//deTIEcYYJedwzs8880zGGE2SUeRqfTkbLkRyQF7ftWvXLlu2LDc3d9SoURRoxhJXkC6Nz+ej0DzKtMnKyqIgYV3XGWOyLNNFoVsagEYIYoNTC2XOHDhwoHfv3uvWrcvLy1u+fPlZZ52l6zolaKqqeujQIZbIFDQMIzc3lyVifKLRaDQapRhaxhjnvLKyktzIYsLVzYh4Xe4IZnnssccqKiomT56saRplrJLNyjnv0qULaSdjTNd1v9+v6/rAgQNbtGjBEiavoigbNmxgjFG0F21PaTkwj04C7shnNQxDluWVK1cyxu6+++4WLVrE43G6NLSBpmmKolRUVNCWjDFFUcrLy2noI27UrKwsuigZPTIAMgZu/VRBciLLcnl5eb9+/datW9e2bdtVq1ZdfPHFIheTXL59+/YlEaXME3IOk6AePnx43bp1mqYZhhEOhwsLCy+55BKS1XqhIsIJTOMGMk/Xr18fCATatm1LCZT0l7zBHTp0UFW1vLycpmbD4bBpmp07d9Y0TZKknJwcMq2aNm1aZQaXI7ujbpCX3uPxxGKxN998U1GUkSNHUlC38OgqihKLxRRFmTVrFsU5U1GIbt26XXfddYqilJWVUY2Ir776iiUMXLgTQCMEypoqqE8pKysrKiravHlzcXHx559/XlBQUFJScuTIEU3TwuHwrl27dF3v0qWLbduvv/66oigHDhx45plnQqFQu3btunTpYlnWvHnzFEX5/vvvP/vss+zs7DZt2rB6Ffj2Mb4AAAyvSURBVBjMEoMMKnCxZs2aWCx26623Nm3aNBwOK4oiy3IsFispKSkrKystLc3NzZ09e/aOHTv8fv9bb73FGOOcX3rppRQezBiLx+OLFy/mnN94441CmzN9iA0BmvinQUwoFKLiD2SwhsPh0tLSw4cPBwKBHj16VFRULFmyxOPxvPrqq4ZhtGvXrnv37pZlvfbaa+TMHz9+vM/n69WrFwVGZfrIAEg3UNZUITJqaPw+e/bswsLCFi1aFBYWtm/fXpbl0aNHt2nTZsGCBXl5eZdddtm33347aNCgK6+8cseOHWPGjGnVqlX//v07duz49ttvDxo06IYbbrBte+jQocL+q1+mAE3ISZK0Zs2aSCRCPkZVValk48svv9y6detp06bl5+ePHj26vLy8ffv2N91008MPPxwKhQYNGnTxxRcPGzZs5cqV3bt3v+KKK9auXTts2LDs7GzKCcY8ax0h5wqJ6CeffPL7778PGjSoadOmlN+pKMpzzz3XokWLF1980efz3X///YFA4C9/+cutt9769NNPBwKBiy66yDTNa6+99uDBg7179+7Ro8c333zTtm3bSy65BD5h0DjBPGuqoO6+WbNmL7zwAvX+ZFrZtp2Tk8M5v+aaa95//33LsrKyshYvXjxt2jQa8o8fP/7JJ58sLy8PhUJLliwZMGDAZ599Ztv2Qw89NGHChHA4TJn49ctsVRSFqh9fc801gUDgggsuIPMoHo/btt2rV6+HHnro4MGDiqKMGTMmGAy+9NJL77//ft++fceNG9esWTNd12fOnGma5tKlS23bHjZs2MyZM+l8er1ecgVDX08a4VdXFKWgoODZZ5/t2LEjY8zr9dq2HYvFBg4cuGTJksOHD3POL7/88vnz5992221z585t2rTp22+/3bNnT9M033///enTpz/zzDOmaRYXF7/yyiuiGmL9ulcBqDtQ1lRBvVV2dvaYMWOq3WDPnj2yLA8ePDgej+fn5z/99NOPPvooRf/G4/FgMGhZVm5u7sqVK0Wx3Hg87vP56pER4OxSKcT0/PPPP//88xljFIZK9jfVjujevTvldYwdO/auu+6Kx+NZWVmMMcr6iEajs2bNMk3TMIxgMGiapqhJK1YvQA9+EojgOFLBTp06derUiSXKCMfjcY/Hs2vXrk2bNhUVFTHGwuHwFVdcsW3bNnJCBIPBWCxGEezjxo2ju92ZCoWLAhohUNZU4YyJrfI+RSr98ssvU6ZMochYKl/u8/lIaTRNIwmhBUMo84GMPOrO6ktvVcWIJMOdLHiaH6XVUb766qvx48cPGjSIjo6SlKjLpnhUKrNMfz0eD0VWV9mLhLrBJ0WVs0cXSMSF0QWKxWKDBg0aP368iOKWJImWZqKsVipjGY1G6VMqjMUTazAA0NiAsqYKkcdZZbkPSsqMx+NTpkzxer2RSIQiY2VZpkwG6pXoi5QaSDaZeFGP9OPYdooum46CZHL06NG0+hhjzDAMn88nSRLJJ1UeoCxeck6K98V5EHupL6fFVVQ5e6KkM92ofr/fMIz+/fv379+fRnuknWTOkgNZpGJTPJppmmQBy7IsJQqNZfAAAUg/UNZ0Q8YBzQ5Go1G/309pmhRFKSXqCVOvRHYqfZF6NHo/s4eQRKjWo6ZpwgylDpqOlOxaOi0kpdTvIx44DThHLSSWsizTfUsb0HWhysBitMQSbn8GLwJoxEBZ040QCZaodSAcm8eujtlQeyWnnUQeb/rr3EB4wqt893jvg+RyPKeLQLxf7aquADRm8EgwVucMFlHFRryoeWMRxZqUWFbnfo+XmO826yG5QbzpP65atl9sVuUOORa3XSB29I160mTwuGrT/iqPYRKfStDIgbIyVl3XLB7L43107NdFYJHTKq2WpDy6kmPF72MbcLzDqft+XUj6j6vae+N4N4azeceLPnPnBap7ezKoVbURdfG80OSClKib5rYLAeodUFbGHEX46BmjFBfRKYgQDFoHVCS9iKJ6NFPIEwtmie1TOlQXvYZQcYruYYyJ9tD7FAmV6vY0KoQQ0hmmtQEoftupnaK/Fl90riPLOafZZVGlARcoiXBHJWTOuWEYNDFMF4Vi8k3TFFeNMUaB0M7gOABODijrP+GJhVMYY4ZhiEeL3qcnk9aloQqrLFEZNRaLeb1eEVHJGKMw11QrK0WOUFYoJUtYliVqMoiZSBFMi84iiQhxpeSoKllAsViMc04VpiRJogtEaxKYpun3+0W4FmMsHA6j9HHSoUGwbdt0gSimQXwUjUbpoaD4QXp4xSLtuBCgjkBZ/wlZG1VCaQhN0/x+fyQSueOOOxRFueeee0h627Ztyxijokiqqvr9fkpLTU+DqV+WZTkYDFKCBL2/b98+WpTt7bff9vv9Dz30UHra0zhRVXX37t2PPfbY6aefXlxcHI/HQ6HQaaedxhijNcM1TQsEArIs07+MsUOHDh04cEBRlHnz5u3cuXPy5MktW7bM5DE0RGjsQn937do1ceLEVq1ajRgxIhwO5+fnFxYWii2F+/d4sVoAnChQ1qPQdX379u209JsoSEs5ppIklZWVvfbaa4yxN9980zRNqp5KZuI999xz8OBBj8ezbds2ypdPQ2spbb+8vHznzp3btm2bNWvWnj17srKyPv74499//52SZc8999xrr722SmkFkCzIf/j111+/8847jLFJkyYpilJYWDho0KDy8vK8vLwRI0YcOXLk559//vHHH2fNmvXbb7/l5eUtXbp07969wnvftWvXjh074hqlAqrKsnHjxrfffpsx9uyzz4bD4VNPPfXaa68tKysrKCi48cYbf/31VxrZWJYlFsIDoC64LmgiI4iZ0YMHD/bo0aOyslKs3kxuVfLuappGS7JU+Xp+fn52dnZJSUlWVlZubm48Hqf30zDPatv2vn37CgsL/X7/77//HolEnNtIkpSTk5OXlydinVLXnsYGDbmoToJhGAcPHoxGo1W2KSgoCAaD//jHP3JyckKh0OHDh0tLS50bSJLk8/maNm2KedZUwBNp4tFo9MCBA+LBFLRs2TI7O/vQoUMzZ87s2bMnTcoiKAHUHSgrY44IRqomY9u2z+cTwSYkYLIsl5SUtGjR4rzzzovH41TelnywRUVFWVlZxcXFrVq1evLJJ6PRaHqKutFamJ07d7799tuLi4v379//ySefaJr266+/zpgxw+PxlJSUnH766d988w1NEqehSY0Knij+98UXX3Tp0uWCCy4Ih8MtWrS4+eabJUlq1qzZ1VdfzRi75JJL7r///oEDB9q2vXLlyl9++cXj8cycOXPXrl2Komzfvv2///u/r7zySlyjVGAYhtfrXbNmTdeuXdu3b19ZWdmyZcsRI0bIslxQUNC7d29JkhYtWmRZ1sCBA+nJTUP4IWjwwBv8T0hfKSbIuUwHVUC1bdvr9c6ePZsWeRZjW8ZYLBZjjInlu9P8TGqaRvvNz8+/6aab6M1x48b5fL5ffvnl66+/Tn+TGg+qqhqG0apVq0WLFvXv31+EthEVFRVZWVliaiAej/fo0YNeDx8+nDFGU61nn322M+YcJAVnxG/r1q3pAsXjceeoV1wvCgmm4OGMtRg0IKCs/0Q8ihRMKP6leVbDMPx+/9ChQyl2iWbInHkvZWVllZWVafPpCTs7HA5Ho1EyuGndU9qgoqLijDPOaN26tSg4DJKIM/HmtNNOa9WqFQWKR6NRkVdD/XV5eTmNvSzLqqiooAtEtaM1Tbv++uvJU4I+PbmIZ9O27VNOOeW0006jRZMMw6CxMkvELtGzQw81gphAUoCy/hMq5EZpMyJckFzBZBdSBL+iKFTMltJdKGdOkqTBgwdXVFQ4k81TPc9KnH766bTaGlXcFRvQwjg8UXkYHXcScV5i6qwlSaJQbfJ2kPVDt8e///u/5+fn013kLARIocKkr8erIAFOGp5Y8oHW4aG1BETkBEvM/kiSlJWVRQ+1M7cVgLqAedbqcdZhqPlJEx5jxhgZH+RuSs8jSv049R20Rubx9osLnURqU99HOBVocVka6IhpvONtD5JF7a8R6S7NyFJUmshwBeDkgLIyVl2ndqKl5kjbyIgkkyXVD6ez7pJYBqdmWxmD8WRR+3tDVP9hjJHZWsPGuEBJpJbXSJKkeDxOZ96ZcoNrAeoCvMGMHecpquWjxR1FEKnmSzpjC6kMk7Mladt1Y6Y2Z1jMJpC72FmnCRcoDdTyGhHkB6Zih7g6oO7AZq0rPFE6mLyyjLG0lRIUfTel3tJ+GTpudyCeLBpspW0CHpwQIq2OJsUx+gFJAcqaBKr0lSJqNG0V+Ws5JQzST7X3RgbbA5yk51EFjZD/D/bDTNuErRVnAAAAAElFTkSuQmCC)"
   ]
  },
  {
   "cell_type": "markdown",
   "metadata": {},
   "source": [
    "## Respuesta\n",
    "Se utiliza el  método  descrito en el Pliego de Condiciones Técnicas deInstalaciones Conectadas a Red (PCT-C-REV - julio 2011),\n",
    "\n",
    "Segun el cual tales pérdidas se expresan como porcentaje de la radiación solar global que incidiría sobre la mencionada superficie de no existir sombra alguna. \n",
    "\n",
    "### Obtención del perfil de obstáculos \n",
    "Localización  de  los  principales  obstáculos  que  afectan  a  la  superficie,  en  términos  de  sus  coordenadas de posición azimut ,$\\angle \\alpha$ ,(ángulo de desviación con respecto a la dirección Sur) y elevación,$\\angle \\beta $, (ángulo de inclinación con respecto al plano horizontal). \n",
    "\n",
    "En nuestro caso a partir de la figura, tomando como origen de coordenadas\n",
    "\n",
    "* C :centro de los captadores\n",
    "\n",
    "Se define el sistema de coordenadas rectangulares \n",
    "* S (m) : horizontal sur. ( $\\overrightarrow{CP}_S$) \n",
    "* O (m) : horizonal oeste.( $\\overrightarrow{CP}_O$) \n",
    "* H (m) : vertical.( $\\overrightarrow{CP}_H$) \n",
    "\n",
    "de donde se obienen:\n",
    "\n",
    "$$\n",
    "\\alpha=\\arctan \\frac{O}{S}        \\\\\n",
    "\\beta =\\arctan \\frac{H}{\\sqrt{S^2+O^2}}\n",
    "$$\n",
    "\n",
    "\n",
    "{{ff}}"
   ]
  },
  {
   "cell_type": "code",
   "execution_count": null,
   "metadata": {},
   "outputs": [],
   "source": []
  },
  {
   "cell_type": "markdown",
   "metadata": {},
   "source": [
    "Representados en el diagrama de la figura:\n",
    "\n",
    "![alt text](plt.png \"Title\")\n",
    "\n",
    "Se excoge como  referencia de irradiacion anual (%) la tabla $H_{\\% irradiacion,p}$, para cada porcion, segun los ángulos de inclinación,$\\beta_s$  y orientación,$\\alpha_s$ \n",
    "\n",
    "* $\\beta_s$={{beta}}$^o$\n",
    "* $\\alpha_s$={{alfa}}$^o$\n",
    "\n",
    "{{dfs}}\n",
    "\n",
    "Usando para aquellas porciones que resulten  total  o  parcialmente  ocultas  por  el  perfil  de  obstáculos  representado, los valores: \n",
    "* $\\% ocultacion \\in [0.25, 0.50, 0.75,1]$\n",
    "se tiene la tabla $O_{\\%ocultacion,p}$\n",
    "{{dfo}}"
   ]
  },
  {
   "cell_type": "markdown",
   "metadata": {
    "variables": {
     "dfp": "<p><strong>NameError</strong>: name &#39;dfp&#39; is not defined</p>\n",
     "pt": "<p><strong>NameError</strong>: name &#39;pt&#39; is not defined</p>\n"
    }
   },
   "source": [
    "combinando ambas tablas\n",
    "\n",
    "* $Pérdidas_{\\%sombreado,p}=H_{\\% irradiacion,p} \\cdot  O_{\\%ocultacion,p}$\n",
    "\n",
    "{{dfp}}\n",
    "\n",
    "* $Pérdidas_{\\%sombreado,Total}=\\sum_{p} Pérdidas_{\\%sombreado,p}$ \n",
    "> $Pérdidas_{\\%sombreado,Total}=${{pt}} %"
   ]
  },
  {
   "cell_type": "code",
   "execution_count": null,
   "metadata": {},
   "outputs": [],
   "source": [
    "%%html\n",
    "<script>\n",
    "code_show=true; \n",
    "function code_toggle() {\n",
    " if (code_show){\n",
    " $('div.input').hide();\n",
    " } else {\n",
    " $('div.input').show();\n",
    " }\n",
    " code_show = !code_show\n",
    "} \n",
    "$( document ).ready(code_toggle);\n",
    "</script>\n",
    "<form action=\"javascript:code_toggle()\"><input type=\"submit\" value=\" \n",
    "Curso: Diseño y mantenimiento de instalaciones de energía solar fotovoltaica\n",
    "Alumno: Francisco Manuel Roman Gamez\n",
    "\n",
    "\"></form>"
   ]
  },
  {
   "cell_type": "code",
   "execution_count": null,
   "metadata": {},
   "outputs": [],
   "source": []
  }
 ],
 "metadata": {
  "kernelspec": {
   "display_name": "Python 3",
   "language": "python",
   "name": "python3"
  },
  "language_info": {
   "codemirror_mode": {
    "name": "ipython",
    "version": 3
   },
   "file_extension": ".py",
   "mimetype": "text/x-python",
   "name": "python",
   "nbconvert_exporter": "python",
   "pygments_lexer": "ipython3",
   "version": "3.6.9"
  },
  "latex_envs": {
   "LaTeX_envs_menu_present": true,
   "autoclose": false,
   "autocomplete": true,
   "bibliofile": "biblio.bib",
   "cite_by": "apalike",
   "current_citInitial": 1,
   "eqLabelWithNumbers": true,
   "eqNumInitial": 1,
   "hotkeys": {
    "equation": "Ctrl-E",
    "itemize": "Ctrl-I"
   },
   "labels_anchors": false,
   "latex_user_defs": false,
   "report_style_numbering": false,
   "user_envs_cfg": false
  },
  "varInspector": {
   "cols": {
    "lenName": 16,
    "lenType": 16,
    "lenVar": 40
   },
   "kernels_config": {
    "python": {
     "delete_cmd_postfix": "",
     "delete_cmd_prefix": "del ",
     "library": "var_list.py",
     "varRefreshCmd": "print(var_dic_list())"
    },
    "r": {
     "delete_cmd_postfix": ") ",
     "delete_cmd_prefix": "rm(",
     "library": "var_list.r",
     "varRefreshCmd": "cat(var_dic_list()) "
    }
   },
   "types_to_exclude": [
    "module",
    "function",
    "builtin_function_or_method",
    "instance",
    "_Feature"
   ],
   "window_display": false
  }
 },
 "nbformat": 4,
 "nbformat_minor": 4
}
