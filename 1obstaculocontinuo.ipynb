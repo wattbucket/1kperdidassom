{
 "cells": [
  {
   "cell_type": "code",
   "execution_count": null,
   "metadata": {},
   "outputs": [],
   "source": []
  },
  {
   "cell_type": "code",
   "execution_count": 19,
   "metadata": {},
   "outputs": [
    {
     "data": {
      "text/plain": [
       "<matplotlib.axes._subplots.AxesSubplot at 0x7f887d87b7f0>"
      ]
     },
     "execution_count": 19,
     "metadata": {},
     "output_type": "execute_result"
    },
    {
     "data": {
      "image/png": "[encoded data removed]",
      "text/plain": [
       "<Figure size 432x288 with 1 Axes>"
      ]
     },
     "metadata": {
      "needs_background": "light"
     },
     "output_type": "display_data"
    }
   ],
   "source": [
    "# https://ec.europa.eu/jrc/en/PVGIS/docs/noninteractive\n",
    "# https://ec.europa.eu/jrc/en/PVGIS/releases/pvgis51\n",
    "# https://re.jrc.ec.europa.eu/pvg_tools/es/#MR\n",
    "\n",
    "from flask import Flask, jsonify, render_template, request, session\n",
    "import pandas as pd # data wrangling\n",
    "import requests as requests\n",
    "import pandas as pd \n",
    "import json\n",
    "import datetime\n",
    "from math import pi\n",
    "import numpy as np\n",
    "import matplotlib.pyplot as plt\n",
    "\n",
    "\n",
    "# vvalores inciales\n",
    "\n",
    "pp=[[-180,0],[-110,0],[-109,2],[-60,4],[-55,3],[-54,0],[-20,0],[-19,20],[0,22],[19,20],[20,0],[30,0],[31,5],[40,7],[60,2],[61,0],[180,0]]\n",
    "df=pd.DataFrame(pp)\n",
    "\n",
    "\n",
    "# cuando se modifica un punto en el front\n",
    "punto='0,12,42,8'\n",
    "\n",
    "ppunto = pd.DataFrame([x.split(',') for x in punto.split('\\n')])\n",
    "ppunto=ppunto.astype(int)\n",
    "# actualiza la tabla de puntos\n",
    "df.at[(ppunto.at[0,0]*3+ppunto.at[0,1]+1),0]=ppunto.at[0,2]\n",
    "df.at[(ppunto.at[0,0]*3+ppunto.at[0,1]+1),1]=ppunto.at[0,3]\n",
    "df[0]=df[0]+180\n",
    "# df\n",
    "# fig,ax=plt.subplots(figsize=(15,8))\n",
    "# ax.plot(df[0],df[1])\n",
    "# # .tolist()\n",
    "# para crear los 360 puntos para el pvgis\n",
    "d = pd.Series(np.nan, index=np.arange(360))\n",
    "\n",
    "ii=df.index.tolist()\n",
    "for i in ii: \n",
    "#     print(i) \n",
    "    d.at[df.at[i,0]]=df.at[i,1]\n",
    "d=d.interpolate()\n",
    "d=d.T\n",
    "d.plot()\n"
   ]
  },
  {
   "cell_type": "code",
   "execution_count": null,
   "metadata": {},
   "outputs": [],
   "source": []
  },
  {
   "cell_type": "code",
   "execution_count": null,
   "metadata": {},
   "outputs": [],
   "source": [
    "\n"
   ]
  },
  {
   "cell_type": "code",
   "execution_count": null,
   "metadata": {},
   "outputs": [],
   "source": []
  },
  {
   "cell_type": "code",
   "execution_count": null,
   "metadata": {},
   "outputs": [],
   "source": []
  },
  {
   "cell_type": "code",
   "execution_count": null,
   "metadata": {},
   "outputs": [],
   "source": []
  },
  {
   "cell_type": "code",
   "execution_count": null,
   "metadata": {},
   "outputs": [],
   "source": [
    "\n"
   ]
  },
  {
   "cell_type": "code",
   "execution_count": null,
   "metadata": {},
   "outputs": [],
   "source": []
  },
  {
   "cell_type": "code",
   "execution_count": null,
   "metadata": {},
   "outputs": [],
   "source": []
  },
  {
   "cell_type": "code",
   "execution_count": null,
   "metadata": {},
   "outputs": [],
   "source": []
  },
  {
   "cell_type": "code",
   "execution_count": null,
   "metadata": {},
   "outputs": [],
   "source": []
  }
 ],
 "metadata": {
  "kernelspec": {
   "display_name": "Python 3",
   "language": "python",
   "name": "python3"
  },
  "language_info": {
   "codemirror_mode": {
    "name": "ipython",
    "version": 3
   },
   "file_extension": ".py",
   "mimetype": "text/x-python",
   "name": "python",
   "nbconvert_exporter": "python",
   "pygments_lexer": "ipython3",
   "version": "3.6.9"
  },
  "latex_envs": {
   "LaTeX_envs_menu_present": true,
   "autoclose": false,
   "autocomplete": true,
   "bibliofile": "biblio.bib",
   "cite_by": "apalike",
   "current_citInitial": 1,
   "eqLabelWithNumbers": true,
   "eqNumInitial": 1,
   "hotkeys": {
    "equation": "Ctrl-E",
    "itemize": "Ctrl-I"
   },
   "labels_anchors": false,
   "latex_user_defs": false,
   "report_style_numbering": false,
   "user_envs_cfg": false
  },
  "varInspector": {
   "cols": {
    "lenName": 16,
    "lenType": 16,
    "lenVar": 40
   },
   "kernels_config": {
    "python": {
     "delete_cmd_postfix": "",
     "delete_cmd_prefix": "del ",
     "library": "var_list.py",
     "varRefreshCmd": "print(var_dic_list())"
    },
    "r": {
     "delete_cmd_postfix": ") ",
     "delete_cmd_prefix": "rm(",
     "library": "var_list.r",
     "varRefreshCmd": "cat(var_dic_list()) "
    }
   },
   "types_to_exclude": [
    "module",
    "function",
    "builtin_function_or_method",
    "instance",
    "_Feature"
   ],
   "window_display": false
  }
 },
 "nbformat": 4,
 "nbformat_minor": 4
}
